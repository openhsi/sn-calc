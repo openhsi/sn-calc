{
 "cells": [
  {
   "cell_type": "code",
   "execution_count": 1,
   "metadata": {},
   "outputs": [],
   "source": [
    "from Py6S import *\n",
    "import numpy as np\n",
    "%matplotlib widget\n",
    "import ipywidgets as widgets\n",
    "from matplotlib import pyplot as plt\n",
    "from scipy.interpolate import interp1d\n",
    "import scipy"
   ]
  },
  {
   "cell_type": "code",
   "execution_count": 2,
   "metadata": {},
   "outputs": [],
   "source": [
    "def wattsToPhotons(radwatts, waves):\n",
    "    return radwatts / (1.98644582e-25 / (waves * 1e-6))\n",
    "\n",
    "\n",
    "def convertRadAtSatLevelToPhotonsCapturedBySensor(\n",
    "    radwatts,\n",
    "    waves,\n",
    "    apeture,\n",
    "    efl,\n",
    "    pixelsize,\n",
    "    int_time,\n",
    "    dlam,\n",
    "    QE,\n",
    "    inst_trans,\n",
    "    anamorphic_factor=1,\n",
    "):\n",
    "    phots = wattsToPhotons(radwatts, waves)\n",
    "\n",
    "    fnum = efl / apeture\n",
    "\n",
    "    if type(pixelsize) is tuple:\n",
    "        A = pixelsize[0] * pixelsize[1]\n",
    "    else:\n",
    "        A = pixelsize ** 2\n",
    "\n",
    "    # SLDangle=apeture**2 * np.pi / (4*efl**2)\n",
    "\n",
    "    SLDangle = np.pi / (2 * fnum) ** 2 / anamorphic_factor\n",
    "\n",
    "    captured_phots = phots * int_time * A * SLDangle * dlam * inst_trans * QE\n",
    "\n",
    "    return captured_phots\n",
    "\n",
    "\n",
    "CMV2000_QE_RAW = np.genfromtxt(\"detector_qe/cmv2000qe.csv\", delimiter=\",\")\n",
    "IMX174_QE_RAW = np.genfromtxt(\"detector_qe/imx174qe.csv\", delimiter=\",\")\n",
    "IMX273_QE_RAW = np.genfromtxt(\"detector_qe/imx273qe.csv\", delimiter=\",\")\n",
    "\n",
    "CMV2000_QE = interp1d(CMV2000_QE_RAW[:, 0] / 1000, CMV2000_QE_RAW[:, 1] / 100)\n",
    "IMX174_QE = interp1d(IMX174_QE_RAW[:, 0] / 1000, IMX174_QE_RAW[:, 1] / 100)\n",
    "IMX273_QE = interp1d(IMX273_QE_RAW[:, 0] / 1000, IMX273_QE_RAW[:, 1] / 100)\n",
    "\n",
    "QE = {\"CMV2000\": CMV2000_QE, \"IMX174\": IMX174_QE, \"IMX273\": IMX273_QE}\n"
   ]
  },
  {
   "cell_type": "markdown",
   "metadata": {},
   "source": [
    "# Run 6SV simulation to estimate radiance received by sensor.\n",
    "Uses the Py6SV wrapper and mostly default values for now. Geometry is set to obsevere Jervis Bay at 11am, nadir pointing (I think)."
   ]
  },
  {
   "cell_type": "code",
   "execution_count": 19,
   "metadata": {},
   "outputs": [
    {
     "name": "stdout",
     "output_type": "stream",
     "text": [
      "Running for many wavelengths - this may take a long time\n"
     ]
    }
   ],
   "source": [
    "try:\n",
    "    data = np.load(\"groundsixsmodel.npz\")\n",
    "    wv = data[\"wv\"]\n",
    "    res = data[\"res\"]\n",
    "except:\n",
    "    s = SixS()\n",
    "\n",
    "    # s.atmos_profile = AtmosProfile.PredefinedType(AtmosProfile.Tropical)\n",
    "\n",
    "    s.altitudes.set_sensor_sea_level()\n",
    "    s.atmos_profile = AtmosProfile.PredefinedType(AtmosProfile.MidlatitudeSummer)\n",
    "    # s.ground_reflectance = GroundReflectance.HomogeneousLambertian(GroundReflectance.GreenVegetation)\n",
    "    s.geometry = Geometry.User()\n",
    "    s.geometry.from_time_and_location(\n",
    "        -35.0481, 150.7447, \"2021-01-01T00:00:00.0\", 0, 0\n",
    "    )  #% 11am AEDT above jervis bay.\n",
    "\n",
    "    wv, res = SixSHelpers.Wavelengths.run_wavelengths(\n",
    "        s, np.arange(0.430, 0.915, 0.005), output_name=\"pixel_radiance\"\n",
    "    )\n",
    "\n",
    "    np.savez(\"groundsixsmodel.npz\", wv=wv, res=res)\n",
    "\n"
   ]
  },
  {
   "cell_type": "markdown",
   "metadata": {},
   "source": [
    "# Interactive S/N calc"
   ]
  },
  {
   "cell_type": "markdown",
   "metadata": {},
   "source": [
    "The papramets can be adjusted in the plot ot the effect on the S/N. \n",
    "- *Aperture* is the diameter of the entrance aperture of the sensor in mm\n",
    "- *EFL* is effiective focal length in mm\n",
    "- *pixelsize* is the size of a spatial pixel on the sensor in micrometers. (i.e. raw pixel size on the ximea linescane sensor or the slit size in spectrograh based design (note I assume in that case Entenue is conserved by the spec).\n",
    "- *int_time* is the inegration time of the sensor in ms.\n",
    "- *dlam* is the spectral resolution of the instrument (or the width of spectral bands)."
   ]
  },
  {
   "cell_type": "code",
   "execution_count": 44,
   "metadata": {
    "scrolled": false
   },
   "outputs": [
    {
     "data": {
      "application/vnd.jupyter.widget-view+json": {
       "model_id": "3245724d9ac2437ca5b72a22ee1eb3f0",
       "version_major": 2,
       "version_minor": 0
      },
      "text/plain": [
       "Canvas(toolbar=Toolbar(toolitems=[('Home', 'Reset original view', 'home', 'home'), ('Back', 'Back to previous …"
      ]
     },
     "metadata": {},
     "output_type": "display_data"
    },
    {
     "data": {
      "application/vnd.jupyter.widget-view+json": {
       "model_id": "eb79474747b0485c87c21f546f10c8e7",
       "version_major": 2,
       "version_minor": 0
      },
      "text/plain": [
       "interactive(children=(FloatSlider(value=4.0, description='Apeture:', max=200.0, min=1.0, step=1.0), FloatSlide…"
      ]
     },
     "metadata": {},
     "output_type": "display_data"
    }
   ],
   "source": [
    "plt.close('all') \n",
    "# set up plot\n",
    "fig, ax = plt.subplots(figsize=(6, 4))\n",
    "\n",
    "ax.grid(True)\n",
    "ax.autoscale(True, \"both\", True)\n",
    "\n",
    "apeture = widgets.FloatSlider(value=4, min=1, max=200.0, step=1, description=\"Apeture:\")\n",
    "efl = widgets.FloatSlider(\n",
    "    value=16, min=1, max=3000.0, step=1, description=\"Focal Lengh:\"\n",
    ")\n",
    "pixel_size_x = widgets.FloatSlider(\n",
    "    value=25, min=1, max=60, step=0.1, description=\"Pixel Size X:\"\n",
    ")\n",
    "pixel_size_y = widgets.FloatSlider(\n",
    "    value=3.45, min=1, max=60, step=0.1, description=\"Pixel Size Y:\"\n",
    ")\n",
    "int_time_widget = widgets.FloatSlider(\n",
    "    value=10, min=0, max=100, step=0.1, description=\"Exposure Time (ms):\"\n",
    ")\n",
    "dlam = widgets.FloatSlider(value=3.3, min=0.1, max=500, step=1, description=\"Bandwidth\")\n",
    "\n",
    "use_qe = widgets.Checkbox(value=True, description=\"Include Real QE\")\n",
    "\n",
    "altitude = widgets.FloatSlider(\n",
    "    value=100, min=0.001, max=600, step=0.1, description=\"Altitude (km)\"\n",
    ")\n",
    "\n",
    "\n",
    "@widgets.interact(\n",
    "    apeture=apeture,\n",
    "    efl=efl,\n",
    "    pixel_size_x=pixel_size_x,\n",
    "    pixel_size_y=pixel_size_y,\n",
    "    int_time=int_time_widget,\n",
    "    dlam=dlam,\n",
    "    altitude=altitude,\n",
    "    use_qe=use_qe,\n",
    "    detector=widgets.Dropdown(\n",
    "        options=[\"CMV2000\", \"IMX174\", \"IMX273\"], value=\"IMX273\", description=\"Detector:\"\n",
    "    ),\n",
    ")\n",
    "def update(\n",
    "    apeture,\n",
    "    efl,\n",
    "    pixel_size_x,\n",
    "    pixel_size_y,\n",
    "    int_time,\n",
    "    dlam,\n",
    "    altitude,\n",
    "    use_qe,\n",
    "    detector,\n",
    "):\n",
    "    \"\"\"Remove old lines from plot and plot new one\"\"\"\n",
    "    [l.remove() for l in ax.lines]\n",
    "\n",
    "    if use_qe:\n",
    "        detectorQE = QE[detector](wv)\n",
    "    else:\n",
    "        detectorQE = 0.7\n",
    "\n",
    "    gsd_x = altitude / efl * 1e-3 * pixel_size_x\n",
    "    gsd_y = altitude / efl * 1e-3 * pixel_size_y\n",
    "\n",
    "    SN = np.sqrt(\n",
    "        convertRadAtSatLevelToPhotonsCapturedBySensor(\n",
    "            radwatts=res,\n",
    "            waves=wv,\n",
    "            apeture=apeture * 1e-3,\n",
    "            efl=efl * 1e-3,\n",
    "            pixelsize=(pixel_size_x * 1e-6, pixel_size_y * 1e-6),\n",
    "            int_time=int_time * 1e-3,\n",
    "            dlam=dlam * 1e-3,\n",
    "            QE=detectorQE,\n",
    "            inst_trans=0.8,\n",
    "        )\n",
    "    )\n",
    "    print(SN/detectorQE)\n",
    "    ax.set_title(\n",
    "        \"F/{:.1f},  Mean S/N: {:.2f}, \\n GSD X: {:.1f}cm, GSD Y: {:.1f}cm, Altitude: {:.0f}m\".format(\n",
    "            efl / apeture, np.nanmean(SN), gsd_x * 1000, gsd_y * 1000, altitude\n",
    "        )\n",
    "    )\n",
    "    # ax.set_ylim([0, np.nanmax(SN)*1.1])\n",
    "    ax.set_xlim([430, 915])\n",
    "    ax.plot(wv * 1000, SN, wv * 1000, np.sqrt(SN**2/detectorQE))\n",
    "    #plt.ylim([0, np.max(SN)])\n",
    "    plt.xlabel(\"Wavelength (nm)\")\n",
    "    plt.ylabel(\"S/N\")\n",
    "    plt.legend([\"With QE\", \"S/N\"])"
   ]
  },
  {
   "cell_type": "code",
   "execution_count": 27,
   "metadata": {},
   "outputs": [
    {
     "ename": "NameError",
     "evalue": "name 'SN' is not defined",
     "output_type": "error",
     "traceback": [
      "\u001b[0;31m---------------------------------------------------------------------------\u001b[0m",
      "\u001b[0;31mNameError\u001b[0m                                 Traceback (most recent call last)",
      "\u001b[0;32m<ipython-input-27-02c466a763e7>\u001b[0m in \u001b[0;36m<module>\u001b[0;34m\u001b[0m\n\u001b[0;32m----> 1\u001b[0;31m \u001b[0mSN\u001b[0m\u001b[0;34m/\u001b[0m\u001b[0mdetectorQE\u001b[0m\u001b[0;34m\u001b[0m\u001b[0;34m\u001b[0m\u001b[0m\n\u001b[0m",
      "\u001b[0;31mNameError\u001b[0m: name 'SN' is not defined"
     ]
    }
   ],
   "source": [
    "SN/detectorQE"
   ]
  }
 ],
 "metadata": {
  "kernelspec": {
   "display_name": "Python 3",
   "language": "python",
   "name": "python3"
  },
  "language_info": {
   "codemirror_mode": {
    "name": "ipython",
    "version": 3
   },
   "file_extension": ".py",
   "mimetype": "text/x-python",
   "name": "python",
   "nbconvert_exporter": "python",
   "pygments_lexer": "ipython3",
   "version": "3.7.9"
  },
  "widgets": {
   "application/vnd.jupyter.widget-state+json": {
    "state": {
     "004614dc02c34998b69af7d4bf2e9c69": {
      "model_module": "@jupyter-widgets/controls",
      "model_module_version": "1.5.0",
      "model_name": "FloatSliderModel",
      "state": {
       "description": "pixel_size_x",
       "layout": "IPY_MODEL_b90f648b35a24b66bae93ccab17cbd30",
       "max": 60,
       "min": 5.5,
       "step": 0.1,
       "style": "IPY_MODEL_17142138b9394fd0b8f078a2bad8e226",
       "value": 11.7
      }
     },
     "00bbf9d5ab8543bbb5291ea565f8128d": {
      "model_module": "@jupyter-widgets/controls",
      "model_module_version": "1.5.0",
      "model_name": "SliderStyleModel",
      "state": {
       "description_width": ""
      }
     },
     "00d122097fe44839804e62144325652e": {
      "model_module": "@jupyter-widgets/controls",
      "model_module_version": "1.5.0",
      "model_name": "FloatSliderModel",
      "state": {
       "description": "pixel_size_y",
       "layout": "IPY_MODEL_cc25dd972a5d4382a11e3c907b5057a2",
       "max": 60,
       "min": 5.5,
       "step": 0.1,
       "style": "IPY_MODEL_d796e655ea7b4c6ab3c2e4f8a56701c3",
       "value": 11.7
      }
     },
     "016fe8082de94f2ca778e9e4150c12f9": {
      "model_module": "@jupyter-widgets/base",
      "model_module_version": "1.2.0",
      "model_name": "LayoutModel",
      "state": {}
     },
     "034564b8167a4346ac4dd91d99627b0d": {
      "model_module": "@jupyter-widgets/controls",
      "model_module_version": "1.5.0",
      "model_name": "FloatSliderModel",
      "state": {
       "description": "pixel_size_x",
       "layout": "IPY_MODEL_3b686b88cf7049a7b134de989b84bc5e",
       "max": 60,
       "min": 5.5,
       "step": 0.1,
       "style": "IPY_MODEL_4ef3c752a4f34d398b43397ed0b3c78c",
       "value": 11.7
      }
     },
     "0444c6744b3840219dc08f09004c606f": {
      "model_module": "@jupyter-widgets/controls",
      "model_module_version": "1.5.0",
      "model_name": "IntSliderModel",
      "state": {
       "description": "apeture",
       "layout": "IPY_MODEL_ba0ae8ea93bd49459a00d1b0787d40ca",
       "min": 10,
       "style": "IPY_MODEL_cd29d895abdb4cddac26a4e86779c06b",
       "value": 45
      }
     },
     "0451c8bee8944f5aa777906f757a33d7": {
      "model_module": "@jupyter-widgets/controls",
      "model_module_version": "1.5.0",
      "model_name": "FloatSliderModel",
      "state": {
       "description": "pixel_size_x",
       "layout": "IPY_MODEL_a5bcb118f08945caaba83d1d2cd18b7d",
       "max": 60,
       "min": 5.5,
       "step": 0.1,
       "style": "IPY_MODEL_46ae38b39353486b92f355dcb5560634",
       "value": 25
      }
     },
     "056384d436b84c1dabc8f177bda713e6": {
      "model_module": "@jupyter-widgets/controls",
      "model_module_version": "1.5.0",
      "model_name": "IntSliderModel",
      "state": {
       "description": "int_time",
       "layout": "IPY_MODEL_7d64e14325d2406496f361838429da3c",
       "max": 10,
       "min": 1,
       "style": "IPY_MODEL_429b6641d0584a70b0f6960ba603735d",
       "value": 2
      }
     },
     "05a03a9fdbb74df6bb469765a4a59e34": {
      "model_module": "@jupyter-widgets/controls",
      "model_module_version": "1.5.0",
      "model_name": "IntSliderModel",
      "state": {
       "description": "int_time",
       "layout": "IPY_MODEL_4bd3bb049f6648a999e1dd2b23bf9a0b",
       "max": 10,
       "min": 1,
       "style": "IPY_MODEL_46e5a78232184418a07d996771094f15",
       "value": 2
      }
     },
     "068af9a3f2034159ace94f8154b25778": {
      "model_module": "@jupyter-widgets/base",
      "model_module_version": "1.2.0",
      "model_name": "LayoutModel",
      "state": {}
     },
     "06991a551e004925ad922d217b88a518": {
      "model_module": "@jupyter-widgets/controls",
      "model_module_version": "1.5.0",
      "model_name": "IntSliderModel",
      "state": {
       "description": "anamorphic_factor",
       "layout": "IPY_MODEL_ee66dcd7a6924326940e32c8fd2eef09",
       "max": 5,
       "min": 1,
       "style": "IPY_MODEL_43ef4bee02c6438fbbb22c809acfbdef",
       "value": 1
      }
     },
     "072f4eb99934468c89cc1307fe8dfa53": {
      "model_module": "@jupyter-widgets/base",
      "model_module_version": "1.2.0",
      "model_name": "LayoutModel",
      "state": {}
     },
     "0abf596c86644a3cbfa381d1d09add5b": {
      "model_module": "@jupyter-widgets/controls",
      "model_module_version": "1.5.0",
      "model_name": "SliderStyleModel",
      "state": {
       "description_width": ""
      }
     },
     "0b3ca7c8ee2e4c63b47a3ea5c7bbb408": {
      "model_module": "@jupyter-widgets/controls",
      "model_module_version": "1.5.0",
      "model_name": "SliderStyleModel",
      "state": {
       "description_width": ""
      }
     },
     "0bf1037387a740f486f4ff98cc4bd2e2": {
      "model_module": "@jupyter-widgets/controls",
      "model_module_version": "1.5.0",
      "model_name": "SliderStyleModel",
      "state": {
       "description_width": ""
      }
     },
     "0c62c0c9fdcd4de0ac3c03148e0a0c05": {
      "model_module": "@jupyter-widgets/base",
      "model_module_version": "1.2.0",
      "model_name": "LayoutModel",
      "state": {}
     },
     "0eedec8cc806488493b2c86d934aa088": {
      "model_module": "@jupyter-widgets/base",
      "model_module_version": "1.2.0",
      "model_name": "LayoutModel",
      "state": {}
     },
     "105183a054d1471e8ab8881117225374": {
      "model_module": "@jupyter-widgets/controls",
      "model_module_version": "1.5.0",
      "model_name": "FloatSliderModel",
      "state": {
       "description": "pixel_size_x",
       "layout": "IPY_MODEL_a647503434e74c99870d761441e2c9fc",
       "max": 60,
       "min": 5.5,
       "step": 0.1,
       "style": "IPY_MODEL_c5cb8baca8f04bb398f8e395c5caaa53",
       "value": 25
      }
     },
     "11071866399a410a8b639d4090e9fede": {
      "model_module": "@jupyter-widgets/base",
      "model_module_version": "1.2.0",
      "model_name": "LayoutModel",
      "state": {}
     },
     "120a9d2a201d41d38c22230d986e3143": {
      "model_module": "@jupyter-widgets/controls",
      "model_module_version": "1.5.0",
      "model_name": "IntSliderModel",
      "state": {
       "description": "anamorphic_factor",
       "layout": "IPY_MODEL_80ad983f2fbd48be81596663d8d477ed",
       "max": 5,
       "min": 1,
       "style": "IPY_MODEL_aefa43b8a6c54944bb88506ae4cb0cb0",
       "value": 1
      }
     },
     "1284fa3ddc924843807b212748b95a96": {
      "model_module": "@jupyter-widgets/base",
      "model_module_version": "1.2.0",
      "model_name": "LayoutModel",
      "state": {}
     },
     "12c39245b90c4de5a04ec8e126a81384": {
      "model_module": "jupyter-matplotlib",
      "model_module_version": "^0.7.4",
      "model_name": "ToolbarModel",
      "state": {
       "layout": "IPY_MODEL_1d87b145efd04b60a40b38e8395296ef",
       "toolitems": [
        [
         "Home",
         "Reset original view",
         "home",
         "home"
        ],
        [
         "Back",
         "Back to previous view",
         "arrow-left",
         "back"
        ],
        [
         "Forward",
         "Forward to next view",
         "arrow-right",
         "forward"
        ],
        [
         "Pan",
         "Left button pans, Right button zooms\nx/y fixes axis, CTRL fixes aspect",
         "arrows",
         "pan"
        ],
        [
         "Zoom",
         "Zoom to rectangle\nx/y fixes axis, CTRL fixes aspect",
         "square-o",
         "zoom"
        ],
        [
         "Download",
         "Download plot",
         "floppy-o",
         "save_figure"
        ]
       ]
      }
     },
     "13250341ecb04959a13b5edeeffbd255": {
      "model_module": "@jupyter-widgets/base",
      "model_module_version": "1.2.0",
      "model_name": "LayoutModel",
      "state": {}
     },
     "150ff5d92e04493d84beee4151a1b48f": {
      "model_module": "@jupyter-widgets/controls",
      "model_module_version": "1.5.0",
      "model_name": "FloatSliderModel",
      "state": {
       "description": "dlam",
       "layout": "IPY_MODEL_068af9a3f2034159ace94f8154b25778",
       "max": 50,
       "min": 0.1,
       "step": 0.1,
       "style": "IPY_MODEL_8f239f67959a456bb5880e564c442608",
       "value": 15
      }
     },
     "159e7365300e4bdc9ba7ba1bda382ca6": {
      "model_module": "@jupyter-widgets/controls",
      "model_module_version": "1.5.0",
      "model_name": "IntSliderModel",
      "state": {
       "description": "efl",
       "layout": "IPY_MODEL_4e5649267c3b443e8bfe251bf5945064",
       "max": 1000,
       "min": 100,
       "step": 20,
       "style": "IPY_MODEL_0abf596c86644a3cbfa381d1d09add5b",
       "value": 330
      }
     },
     "16b0b243338745dc9c74abe0d67c60f7": {
      "model_module": "@jupyter-widgets/base",
      "model_module_version": "1.2.0",
      "model_name": "LayoutModel",
      "state": {}
     },
     "17142138b9394fd0b8f078a2bad8e226": {
      "model_module": "@jupyter-widgets/controls",
      "model_module_version": "1.5.0",
      "model_name": "SliderStyleModel",
      "state": {
       "description_width": ""
      }
     },
     "18e6dc92d4c745ccb64987bcbcde661b": {
      "model_module": "@jupyter-widgets/controls",
      "model_module_version": "1.5.0",
      "model_name": "IntSliderModel",
      "state": {
       "description": "anamorphic_factor",
       "layout": "IPY_MODEL_748c6bbb29ff4b04b6b6de7da73b867c",
       "max": 5,
       "min": 1,
       "style": "IPY_MODEL_88c2eb88359844b5a21d8f8496a709c5",
       "value": 1
      }
     },
     "1a5acedc283746d3b727fa7b501f6c81": {
      "model_module": "@jupyter-widgets/base",
      "model_module_version": "1.2.0",
      "model_name": "LayoutModel",
      "state": {}
     },
     "1b4f9189cbbd42569af8b8f111fd9eed": {
      "model_module": "@jupyter-widgets/controls",
      "model_module_version": "1.5.0",
      "model_name": "VBoxModel",
      "state": {
       "_dom_classes": [
        "widget-interact"
       ],
       "children": [
        "IPY_MODEL_36a5352d57dc49dba51066cffd7bf7cb",
        "IPY_MODEL_65c59e287bb94057854ed48d43a44780",
        "IPY_MODEL_bf88931dcfee442d8545c0422abd5bbc",
        "IPY_MODEL_39a7b44dec49422d945f654b9c99cae1",
        "IPY_MODEL_55c2735ff4704c308f2fe7345e79cc42",
        "IPY_MODEL_80683fac474546cda6965dcb4aa7dcba",
        "IPY_MODEL_a8958b54713a48888df8c22972a6e096",
        "IPY_MODEL_a95fdc25992440edbb45f40179e336a3"
       ],
       "layout": "IPY_MODEL_513d6eb1f5444b90aa7558cc0e677908"
      }
     },
     "1bb37061748f4c398260c94992433970": {
      "model_module": "@jupyter-widgets/base",
      "model_module_version": "1.2.0",
      "model_name": "LayoutModel",
      "state": {}
     },
     "1d87b145efd04b60a40b38e8395296ef": {
      "model_module": "@jupyter-widgets/base",
      "model_module_version": "1.2.0",
      "model_name": "LayoutModel",
      "state": {}
     },
     "1da1a9f1e8294ee4b35a26ba0ba79693": {
      "model_module": "@jupyter-widgets/base",
      "model_module_version": "1.2.0",
      "model_name": "LayoutModel",
      "state": {}
     },
     "22f8898354a541c7a3da73fa82654be9": {
      "model_module": "@jupyter-widgets/base",
      "model_module_version": "1.2.0",
      "model_name": "LayoutModel",
      "state": {}
     },
     "232b4e50438a4c69812e0b65e0127845": {
      "model_module": "@jupyter-widgets/base",
      "model_module_version": "1.2.0",
      "model_name": "LayoutModel",
      "state": {}
     },
     "235c55ea51bd4c65ad0c21aaabf44357": {
      "model_module": "@jupyter-widgets/controls",
      "model_module_version": "1.5.0",
      "model_name": "SliderStyleModel",
      "state": {
       "description_width": ""
      }
     },
     "247bc318803f413ebed312fbe0e695ec": {
      "model_module": "@jupyter-widgets/output",
      "model_module_version": "1.0.0",
      "model_name": "OutputModel",
      "state": {
       "layout": "IPY_MODEL_a1982906f6e947309f559047718ff415"
      }
     },
     "276c71dd6e7b403d85a18fd10ed88af8": {
      "model_module": "@jupyter-widgets/controls",
      "model_module_version": "1.5.0",
      "model_name": "SliderStyleModel",
      "state": {
       "description_width": ""
      }
     },
     "282faa61f2de4936afc8a1753caf1b62": {
      "model_module": "@jupyter-widgets/base",
      "model_module_version": "1.2.0",
      "model_name": "LayoutModel",
      "state": {}
     },
     "28a5352782fa4b4089b3d7e20bd14979": {
      "model_module": "@jupyter-widgets/controls",
      "model_module_version": "1.5.0",
      "model_name": "IntSliderModel",
      "state": {
       "description": "apeture",
       "layout": "IPY_MODEL_1a5acedc283746d3b727fa7b501f6c81",
       "min": 10,
       "style": "IPY_MODEL_7ed411c61fe145d196739794c6a6ab96",
       "value": 45
      }
     },
     "297f46a93d9945b8a10896d83064175b": {
      "model_module": "@jupyter-widgets/controls",
      "model_module_version": "1.5.0",
      "model_name": "IntSliderModel",
      "state": {
       "description": "efl",
       "layout": "IPY_MODEL_37517196f70d47f4b5623b5c2bde7a33",
       "max": 1000,
       "min": 100,
       "step": 20,
       "style": "IPY_MODEL_0b3ca7c8ee2e4c63b47a3ea5c7bbb408",
       "value": 330
      }
     },
     "29e9afea94854987b396253d1be02c3a": {
      "model_module": "@jupyter-widgets/base",
      "model_module_version": "1.2.0",
      "model_name": "LayoutModel",
      "state": {}
     },
     "2a155d20b55a469eae815182f3c164b8": {
      "model_module": "@jupyter-widgets/controls",
      "model_module_version": "1.5.0",
      "model_name": "SliderStyleModel",
      "state": {
       "description_width": ""
      }
     },
     "2cb53089e9024f02b2fd749226d406d2": {
      "model_module": "@jupyter-widgets/base",
      "model_module_version": "1.2.0",
      "model_name": "LayoutModel",
      "state": {}
     },
     "2cc7e069d1394dddad340c7a971a1c8f": {
      "model_module": "@jupyter-widgets/base",
      "model_module_version": "1.2.0",
      "model_name": "LayoutModel",
      "state": {}
     },
     "2d2d2810eb8541518c33ededf53abbf6": {
      "model_module": "@jupyter-widgets/base",
      "model_module_version": "1.2.0",
      "model_name": "LayoutModel",
      "state": {}
     },
     "2ed78956ab214a2c85700c2ed4de2c9e": {
      "model_module": "jupyter-matplotlib",
      "model_module_version": "^0.7.4",
      "model_name": "MPLCanvasModel",
      "state": {
       "_cursor": "default",
       "_figure_label": "Figure 7",
       "_height": 400,
       "_width": 600,
       "layout": "IPY_MODEL_ea7aa0d8097e4411bbdb0c36036886e3",
       "toolbar": "IPY_MODEL_3b5c00c167db47c6a349a6feb42cee31",
       "toolbar_position": "left"
      }
     },
     "30e4bc2e0374426c94063d20e290659c": {
      "model_module": "@jupyter-widgets/base",
      "model_module_version": "1.2.0",
      "model_name": "LayoutModel",
      "state": {}
     },
     "321215ed05f948b5ad25da88e4c1f811": {
      "model_module": "@jupyter-widgets/base",
      "model_module_version": "1.2.0",
      "model_name": "LayoutModel",
      "state": {}
     },
     "3256d2f67a1146b68d514a6d84aab7d9": {
      "model_module": "@jupyter-widgets/controls",
      "model_module_version": "1.5.0",
      "model_name": "SliderStyleModel",
      "state": {
       "description_width": ""
      }
     },
     "3300e7ed89934b8f9c823e439e6282f1": {
      "model_module": "@jupyter-widgets/base",
      "model_module_version": "1.2.0",
      "model_name": "LayoutModel",
      "state": {}
     },
     "33b91287cb484cb3a5609aa0019248ae": {
      "model_module": "@jupyter-widgets/base",
      "model_module_version": "1.2.0",
      "model_name": "LayoutModel",
      "state": {}
     },
     "34325f03028c4f1f8bf7dd54db27ee4c": {
      "model_module": "@jupyter-widgets/controls",
      "model_module_version": "1.5.0",
      "model_name": "IntSliderModel",
      "state": {
       "description": "efl",
       "layout": "IPY_MODEL_58219047f89b4d9db95d6d07939d8b07",
       "max": 1000,
       "min": 100,
       "step": 20,
       "style": "IPY_MODEL_70a447c859f04f8d9f9c462fb092ed68",
       "value": 330
      }
     },
     "3478aeda355043f1a31617f6ae91f461": {
      "model_module": "@jupyter-widgets/controls",
      "model_module_version": "1.5.0",
      "model_name": "FloatSliderModel",
      "state": {
       "description": "pixel_size_y",
       "layout": "IPY_MODEL_c0e539676779432098e884e1929db438",
       "max": 60,
       "min": 5.5,
       "step": 0.1,
       "style": "IPY_MODEL_47f8ec16d0d84342a273f8f66f3ecf7b",
       "value": 5.5
      }
     },
     "34cb0ddc2b8e485f8162006f03f3efda": {
      "model_module": "@jupyter-widgets/base",
      "model_module_version": "1.2.0",
      "model_name": "LayoutModel",
      "state": {}
     },
     "3656f842c54b47bb9aa8b5c4ca703d9b": {
      "model_module": "@jupyter-widgets/controls",
      "model_module_version": "1.5.0",
      "model_name": "FloatSliderModel",
      "state": {
       "description": "pixelsize",
       "layout": "IPY_MODEL_321215ed05f948b5ad25da88e4c1f811",
       "max": 60,
       "min": 5.5,
       "step": 0.1,
       "style": "IPY_MODEL_eae23a592675477f840ce03855b94c75",
       "value": 11.7
      }
     },
     "36a5352d57dc49dba51066cffd7bf7cb": {
      "model_module": "@jupyter-widgets/controls",
      "model_module_version": "1.5.0",
      "model_name": "IntSliderModel",
      "state": {
       "description": "apeture",
       "layout": "IPY_MODEL_16b0b243338745dc9c74abe0d67c60f7",
       "min": 10,
       "style": "IPY_MODEL_ef2e3f009f944ea7a4bc7468b0f1ab3f",
       "value": 45
      }
     },
     "36d94203f13d443f8e2caec501efd4db": {
      "model_module": "@jupyter-widgets/controls",
      "model_module_version": "1.5.0",
      "model_name": "IntSliderModel",
      "state": {
       "description": "int_time",
       "layout": "IPY_MODEL_3300e7ed89934b8f9c823e439e6282f1",
       "max": 10,
       "min": 1,
       "style": "IPY_MODEL_644a2a59b84c474ab488bb20920251f5",
       "value": 2
      }
     },
     "37517196f70d47f4b5623b5c2bde7a33": {
      "model_module": "@jupyter-widgets/base",
      "model_module_version": "1.2.0",
      "model_name": "LayoutModel",
      "state": {}
     },
     "379c37765a2a4117b9e7516f65e674fb": {
      "model_module": "@jupyter-widgets/base",
      "model_module_version": "1.2.0",
      "model_name": "LayoutModel",
      "state": {}
     },
     "37bf976cb31c4f52a45f45a3523a5d96": {
      "model_module": "jupyter-matplotlib",
      "model_module_version": "^0.7.4",
      "model_name": "ToolbarModel",
      "state": {
       "layout": "IPY_MODEL_c6fb1b54b9354659bc035364473b965e",
       "toolitems": [
        [
         "Home",
         "Reset original view",
         "home",
         "home"
        ],
        [
         "Back",
         "Back to previous view",
         "arrow-left",
         "back"
        ],
        [
         "Forward",
         "Forward to next view",
         "arrow-right",
         "forward"
        ],
        [
         "Pan",
         "Left button pans, Right button zooms\nx/y fixes axis, CTRL fixes aspect",
         "arrows",
         "pan"
        ],
        [
         "Zoom",
         "Zoom to rectangle\nx/y fixes axis, CTRL fixes aspect",
         "square-o",
         "zoom"
        ],
        [
         "Download",
         "Download plot",
         "floppy-o",
         "save_figure"
        ]
       ]
      }
     },
     "39981f03838d46a39e68011adf377fbc": {
      "model_module": "@jupyter-widgets/controls",
      "model_module_version": "1.5.0",
      "model_name": "SliderStyleModel",
      "state": {
       "description_width": ""
      }
     },
     "39a7b44dec49422d945f654b9c99cae1": {
      "model_module": "@jupyter-widgets/controls",
      "model_module_version": "1.5.0",
      "model_name": "FloatSliderModel",
      "state": {
       "description": "pixel_size_y",
       "layout": "IPY_MODEL_016fe8082de94f2ca778e9e4150c12f9",
       "max": 60,
       "min": 5.5,
       "step": 0.1,
       "style": "IPY_MODEL_d3df4e7635454f599167a1569cf1502d",
       "value": 11.7
      }
     },
     "3a62e55f3f8a4a19a9c4900566463a9d": {
      "model_module": "@jupyter-widgets/controls",
      "model_module_version": "1.5.0",
      "model_name": "SliderStyleModel",
      "state": {
       "description_width": ""
      }
     },
     "3b1d1a54f78b47b39552c141a896bef5": {
      "model_module": "@jupyter-widgets/controls",
      "model_module_version": "1.5.0",
      "model_name": "SliderStyleModel",
      "state": {
       "description_width": ""
      }
     },
     "3b5c00c167db47c6a349a6feb42cee31": {
      "model_module": "jupyter-matplotlib",
      "model_module_version": "^0.7.4",
      "model_name": "ToolbarModel",
      "state": {
       "layout": "IPY_MODEL_9d5923b224a34560a8f0ab3c876972d7",
       "toolitems": [
        [
         "Home",
         "Reset original view",
         "home",
         "home"
        ],
        [
         "Back",
         "Back to previous view",
         "arrow-left",
         "back"
        ],
        [
         "Forward",
         "Forward to next view",
         "arrow-right",
         "forward"
        ],
        [
         "Pan",
         "Left button pans, Right button zooms\nx/y fixes axis, CTRL fixes aspect",
         "arrows",
         "pan"
        ],
        [
         "Zoom",
         "Zoom to rectangle\nx/y fixes axis, CTRL fixes aspect",
         "square-o",
         "zoom"
        ],
        [
         "Download",
         "Download plot",
         "floppy-o",
         "save_figure"
        ]
       ]
      }
     },
     "3b686b88cf7049a7b134de989b84bc5e": {
      "model_module": "@jupyter-widgets/base",
      "model_module_version": "1.2.0",
      "model_name": "LayoutModel",
      "state": {}
     },
     "3c1085dbb8164003ad927f14b29df4c5": {
      "model_module": "@jupyter-widgets/controls",
      "model_module_version": "1.5.0",
      "model_name": "SliderStyleModel",
      "state": {
       "description_width": ""
      }
     },
     "3c48d5446a534e769441e9168dd020da": {
      "model_module": "@jupyter-widgets/controls",
      "model_module_version": "1.5.0",
      "model_name": "SliderStyleModel",
      "state": {
       "description_width": ""
      }
     },
     "3cfe2d477e2a42eeb58fe875225ccd3a": {
      "model_module": "@jupyter-widgets/controls",
      "model_module_version": "1.5.0",
      "model_name": "FloatSliderModel",
      "state": {
       "description": "pixel_size_y",
       "layout": "IPY_MODEL_29e9afea94854987b396253d1be02c3a",
       "max": 60,
       "min": 5.5,
       "step": 0.1,
       "style": "IPY_MODEL_63524d2fa21f4521811d2608ff30ee30",
       "value": 5.5
      }
     },
     "3d8aa382079246c3b5096a00a6519796": {
      "model_module": "@jupyter-widgets/controls",
      "model_module_version": "1.5.0",
      "model_name": "SliderStyleModel",
      "state": {
       "description_width": ""
      }
     },
     "3f05be04551f4ed89537ed2c8fb5d156": {
      "model_module": "@jupyter-widgets/base",
      "model_module_version": "1.2.0",
      "model_name": "LayoutModel",
      "state": {}
     },
     "3fce4089440447a09b0996a85cf6ef39": {
      "model_module": "@jupyter-widgets/base",
      "model_module_version": "1.2.0",
      "model_name": "LayoutModel",
      "state": {}
     },
     "408553e82174451497b09bfcf99beeb4": {
      "model_module": "@jupyter-widgets/controls",
      "model_module_version": "1.5.0",
      "model_name": "SliderStyleModel",
      "state": {
       "description_width": ""
      }
     },
     "41d7a60619a14c57b0ba43009d99ff61": {
      "model_module": "@jupyter-widgets/controls",
      "model_module_version": "1.5.0",
      "model_name": "IntSliderModel",
      "state": {
       "description": "efl",
       "layout": "IPY_MODEL_e78074d62c9a4613b399ac69ac3b3169",
       "max": 1000,
       "min": 100,
       "step": 20,
       "style": "IPY_MODEL_771796dc1cd44b908931e7e7efcff2c2",
       "value": 330
      }
     },
     "41fcdd07f334467a94d27721821cfe01": {
      "model_module": "@jupyter-widgets/base",
      "model_module_version": "1.2.0",
      "model_name": "LayoutModel",
      "state": {}
     },
     "429b6641d0584a70b0f6960ba603735d": {
      "model_module": "@jupyter-widgets/controls",
      "model_module_version": "1.5.0",
      "model_name": "SliderStyleModel",
      "state": {
       "description_width": ""
      }
     },
     "437d6810519840cc92937946307e8a12": {
      "model_module": "@jupyter-widgets/base",
      "model_module_version": "1.2.0",
      "model_name": "LayoutModel",
      "state": {}
     },
     "43ef4bee02c6438fbbb22c809acfbdef": {
      "model_module": "@jupyter-widgets/controls",
      "model_module_version": "1.5.0",
      "model_name": "SliderStyleModel",
      "state": {
       "description_width": ""
      }
     },
     "4468425396b3426494493c7138a37a8e": {
      "model_module": "@jupyter-widgets/controls",
      "model_module_version": "1.5.0",
      "model_name": "FloatSliderModel",
      "state": {
       "description": "pixelsize",
       "layout": "IPY_MODEL_76490f43b6ea4e22bddcd7dbf2d00899",
       "max": 60,
       "min": 5.5,
       "step": 0.1,
       "style": "IPY_MODEL_6d1b1d00ed2f45f4a7abde7bda595db9",
       "value": 11.7
      }
     },
     "44b8c0c4ea4d4c8e89fe1ec9aae6018a": {
      "model_module": "@jupyter-widgets/base",
      "model_module_version": "1.2.0",
      "model_name": "LayoutModel",
      "state": {}
     },
     "46ae38b39353486b92f355dcb5560634": {
      "model_module": "@jupyter-widgets/controls",
      "model_module_version": "1.5.0",
      "model_name": "SliderStyleModel",
      "state": {
       "description_width": ""
      }
     },
     "46e5a78232184418a07d996771094f15": {
      "model_module": "@jupyter-widgets/controls",
      "model_module_version": "1.5.0",
      "model_name": "SliderStyleModel",
      "state": {
       "description_width": ""
      }
     },
     "4702f9b66ce741c6827d128a1ec34065": {
      "model_module": "@jupyter-widgets/controls",
      "model_module_version": "1.5.0",
      "model_name": "VBoxModel",
      "state": {
       "_dom_classes": [
        "widget-interact"
       ],
       "children": [
        "IPY_MODEL_6a882126a3ae46898f51be8bf30e2f60",
        "IPY_MODEL_5467ccfadcf945d98e2687dbdc963fe9",
        "IPY_MODEL_0451c8bee8944f5aa777906f757a33d7",
        "IPY_MODEL_3478aeda355043f1a31617f6ae91f461",
        "IPY_MODEL_92a0c19d69e54bc0a8412e27966a4212",
        "IPY_MODEL_150ff5d92e04493d84beee4151a1b48f",
        "IPY_MODEL_4ea9cf26a18c485ca212dea702de68df",
        "IPY_MODEL_66b376fb6f4b4e89a07690e3f50fa05d"
       ],
       "layout": "IPY_MODEL_9192bb62e8d54ae59c6472d265f35d01"
      }
     },
     "47f8ec16d0d84342a273f8f66f3ecf7b": {
      "model_module": "@jupyter-widgets/controls",
      "model_module_version": "1.5.0",
      "model_name": "SliderStyleModel",
      "state": {
       "description_width": ""
      }
     },
     "4867b51c5cb24e1c8244caf525c4aa35": {
      "model_module": "@jupyter-widgets/controls",
      "model_module_version": "1.5.0",
      "model_name": "IntSliderModel",
      "state": {
       "description": "int_time",
       "layout": "IPY_MODEL_73b5d632dda04b0ab0b544f36d711b27",
       "max": 10,
       "min": 1,
       "style": "IPY_MODEL_4fb85044bb94498a9edac545eff118eb",
       "value": 2
      }
     },
     "494e21d4a6b14edaafa63c6d329e6a88": {
      "model_module": "@jupyter-widgets/base",
      "model_module_version": "1.2.0",
      "model_name": "LayoutModel",
      "state": {}
     },
     "4a2f3e67386d4a4fbcde77a966587fe3": {
      "model_module": "@jupyter-widgets/controls",
      "model_module_version": "1.5.0",
      "model_name": "IntSliderModel",
      "state": {
       "description": "anamorphic_factor",
       "layout": "IPY_MODEL_dd57a349acfc4b4690a855b9b951a6ba",
       "max": 5,
       "min": 1,
       "style": "IPY_MODEL_3b1d1a54f78b47b39552c141a896bef5",
       "value": 1
      }
     },
     "4bc81528e0f34eafa666ea25a91311ac": {
      "model_module": "@jupyter-widgets/base",
      "model_module_version": "1.2.0",
      "model_name": "LayoutModel",
      "state": {}
     },
     "4bd3bb049f6648a999e1dd2b23bf9a0b": {
      "model_module": "@jupyter-widgets/base",
      "model_module_version": "1.2.0",
      "model_name": "LayoutModel",
      "state": {}
     },
     "4be0fe8722f84adc9603551c587cfe31": {
      "model_module": "jupyter-matplotlib",
      "model_module_version": "^0.7.4",
      "model_name": "MPLCanvasModel",
      "state": {
       "_cursor": "default",
       "_figure_label": "Figure 8",
       "_height": 400,
       "_image_mode": "diff",
       "_width": 600,
       "layout": "IPY_MODEL_a2bc8359cfb246e9be479550e66ccf90",
       "toolbar": "IPY_MODEL_6b08d2ba4c574f25a5a0599647450052",
       "toolbar_position": "left"
      }
     },
     "4d1a693a5ba344d5b49e134de0ef9f08": {
      "model_module": "@jupyter-widgets/controls",
      "model_module_version": "1.5.0",
      "model_name": "SliderStyleModel",
      "state": {
       "description_width": ""
      }
     },
     "4d52e51f937e4e5490f362316c98173d": {
      "model_module": "@jupyter-widgets/base",
      "model_module_version": "1.2.0",
      "model_name": "LayoutModel",
      "state": {}
     },
     "4e5649267c3b443e8bfe251bf5945064": {
      "model_module": "@jupyter-widgets/base",
      "model_module_version": "1.2.0",
      "model_name": "LayoutModel",
      "state": {}
     },
     "4ea9cf26a18c485ca212dea702de68df": {
      "model_module": "@jupyter-widgets/controls",
      "model_module_version": "1.5.0",
      "model_name": "IntSliderModel",
      "state": {
       "description": "anamorphic_factor",
       "layout": "IPY_MODEL_4d52e51f937e4e5490f362316c98173d",
       "max": 5,
       "min": 1,
       "style": "IPY_MODEL_3256d2f67a1146b68d514a6d84aab7d9",
       "value": 1
      }
     },
     "4ef3c752a4f34d398b43397ed0b3c78c": {
      "model_module": "@jupyter-widgets/controls",
      "model_module_version": "1.5.0",
      "model_name": "SliderStyleModel",
      "state": {
       "description_width": ""
      }
     },
     "4fb85044bb94498a9edac545eff118eb": {
      "model_module": "@jupyter-widgets/controls",
      "model_module_version": "1.5.0",
      "model_name": "SliderStyleModel",
      "state": {
       "description_width": ""
      }
     },
     "503ded43a8244d8db12b1bea7296a970": {
      "model_module": "@jupyter-widgets/controls",
      "model_module_version": "1.5.0",
      "model_name": "SliderStyleModel",
      "state": {
       "description_width": ""
      }
     },
     "513d6eb1f5444b90aa7558cc0e677908": {
      "model_module": "@jupyter-widgets/base",
      "model_module_version": "1.2.0",
      "model_name": "LayoutModel",
      "state": {}
     },
     "5467ccfadcf945d98e2687dbdc963fe9": {
      "model_module": "@jupyter-widgets/controls",
      "model_module_version": "1.5.0",
      "model_name": "IntSliderModel",
      "state": {
       "description": "efl",
       "layout": "IPY_MODEL_9d48ac06f05b431b8c1a7f5faba8d05c",
       "max": 1000,
       "min": 100,
       "step": 20,
       "style": "IPY_MODEL_738055359be34a7592cf3bad16588571",
       "value": 330
      }
     },
     "54914efb05b04010b70911e34139d8db": {
      "model_module": "@jupyter-widgets/controls",
      "model_module_version": "1.5.0",
      "model_name": "FloatSliderModel",
      "state": {
       "description": "dlam",
       "layout": "IPY_MODEL_494e21d4a6b14edaafa63c6d329e6a88",
       "max": 50,
       "min": 0.1,
       "step": 0.1,
       "style": "IPY_MODEL_00bbf9d5ab8543bbb5291ea565f8128d",
       "value": 15
      }
     },
     "552fa31a0c8340eb9701c7584ca89e25": {
      "model_module": "@jupyter-widgets/base",
      "model_module_version": "1.2.0",
      "model_name": "LayoutModel",
      "state": {}
     },
     "55c2735ff4704c308f2fe7345e79cc42": {
      "model_module": "@jupyter-widgets/controls",
      "model_module_version": "1.5.0",
      "model_name": "IntSliderModel",
      "state": {
       "description": "int_time",
       "layout": "IPY_MODEL_0c62c0c9fdcd4de0ac3c03148e0a0c05",
       "max": 10,
       "min": 1,
       "style": "IPY_MODEL_e8cf00c9cc76430cad3940ee176b5324",
       "value": 2
      }
     },
     "566a9de624f44ec3ba673708dfb9e660": {
      "model_module": "jupyter-matplotlib",
      "model_module_version": "^0.7.4",
      "model_name": "MPLCanvasModel",
      "state": {
       "_cursor": "default",
       "_figure_label": "Figure 1",
       "_height": 400,
       "_message": "x=0.0093 y=0.0332",
       "_width": 600,
       "layout": "IPY_MODEL_13250341ecb04959a13b5edeeffbd255",
       "toolbar": "IPY_MODEL_a2e05967e9f54114a9c6f42382a6339d",
       "toolbar_position": "left"
      }
     },
     "5745188761cb4ab8bcf196bf083f7c6d": {
      "model_module": "@jupyter-widgets/base",
      "model_module_version": "1.2.0",
      "model_name": "LayoutModel",
      "state": {}
     },
     "57e56d66cab74fdf8314b477e02b10e5": {
      "model_module": "@jupyter-widgets/controls",
      "model_module_version": "1.5.0",
      "model_name": "FloatSliderModel",
      "state": {
       "description": "dlam",
       "layout": "IPY_MODEL_f522fc0ecc3242fb98ace9653cbae40d",
       "max": 50,
       "min": 0.1,
       "step": 0.1,
       "style": "IPY_MODEL_7cfc87c420744048870f886cdf865e23",
       "value": 15
      }
     },
     "58219047f89b4d9db95d6d07939d8b07": {
      "model_module": "@jupyter-widgets/base",
      "model_module_version": "1.2.0",
      "model_name": "LayoutModel",
      "state": {}
     },
     "5b748a57c62e4b3d81015ae7301228ad": {
      "model_module": "@jupyter-widgets/controls",
      "model_module_version": "1.5.0",
      "model_name": "SliderStyleModel",
      "state": {
       "description_width": ""
      }
     },
     "5c36b6e6e0324c7e9240a38a44407d7e": {
      "model_module": "@jupyter-widgets/controls",
      "model_module_version": "1.5.0",
      "model_name": "FloatSliderModel",
      "state": {
       "description": "pixelsize",
       "layout": "IPY_MODEL_8157ed8ff88348fc81d037dbcbea86c3",
       "max": 60,
       "min": 5.5,
       "step": 0.1,
       "style": "IPY_MODEL_4d1a693a5ba344d5b49e134de0ef9f08",
       "value": 11.7
      }
     },
     "600370e912ca49afbfa70eb9e07634ce": {
      "model_module": "@jupyter-widgets/controls",
      "model_module_version": "1.5.0",
      "model_name": "SliderStyleModel",
      "state": {
       "description_width": ""
      }
     },
     "63524d2fa21f4521811d2608ff30ee30": {
      "model_module": "@jupyter-widgets/controls",
      "model_module_version": "1.5.0",
      "model_name": "SliderStyleModel",
      "state": {
       "description_width": ""
      }
     },
     "642028e22e6d4ff0a47b5851ab0ff7b8": {
      "model_module": "@jupyter-widgets/output",
      "model_module_version": "1.0.0",
      "model_name": "OutputModel",
      "state": {
       "layout": "IPY_MODEL_1284fa3ddc924843807b212748b95a96"
      }
     },
     "64239bdc81af46cc928e191afaa13d62": {
      "model_module": "@jupyter-widgets/controls",
      "model_module_version": "1.5.0",
      "model_name": "SliderStyleModel",
      "state": {
       "description_width": ""
      }
     },
     "644a2a59b84c474ab488bb20920251f5": {
      "model_module": "@jupyter-widgets/controls",
      "model_module_version": "1.5.0",
      "model_name": "SliderStyleModel",
      "state": {
       "description_width": ""
      }
     },
     "6584621cf5bb40abbc230915d90c9250": {
      "model_module": "@jupyter-widgets/base",
      "model_module_version": "1.2.0",
      "model_name": "LayoutModel",
      "state": {}
     },
     "65c59e287bb94057854ed48d43a44780": {
      "model_module": "@jupyter-widgets/controls",
      "model_module_version": "1.5.0",
      "model_name": "IntSliderModel",
      "state": {
       "description": "efl",
       "layout": "IPY_MODEL_cca15178657f44cfb3521363e7a3dfde",
       "max": 1000,
       "min": 100,
       "step": 20,
       "style": "IPY_MODEL_fc696e54a978407b8dd27b1da273fb07",
       "value": 330
      }
     },
     "66b376fb6f4b4e89a07690e3f50fa05d": {
      "model_module": "@jupyter-widgets/output",
      "model_module_version": "1.0.0",
      "model_name": "OutputModel",
      "state": {
       "layout": "IPY_MODEL_b6a8fb571138457fbcd0be68a73543e9"
      }
     },
     "680bd3c6619d435f927380d8ae07c7e8": {
      "model_module": "@jupyter-widgets/controls",
      "model_module_version": "1.5.0",
      "model_name": "VBoxModel",
      "state": {
       "_dom_classes": [
        "widget-interact"
       ],
       "children": [
        "IPY_MODEL_0444c6744b3840219dc08f09004c606f",
        "IPY_MODEL_869687d2ffd648eebd71b02544785a6f",
        "IPY_MODEL_034564b8167a4346ac4dd91d99627b0d",
        "IPY_MODEL_8fb9dc84e8f34a7aad2a3c014f7d6bd6",
        "IPY_MODEL_4867b51c5cb24e1c8244caf525c4aa35",
        "IPY_MODEL_722baf1ca44542e0943e9233973f6ca6",
        "IPY_MODEL_06991a551e004925ad922d217b88a518",
        "IPY_MODEL_642028e22e6d4ff0a47b5851ab0ff7b8"
       ],
       "layout": "IPY_MODEL_d5956db3a4f248a0b0f1a0d936f5bc66"
      }
     },
     "69ad71b277e843d18f1e116ec863cf46": {
      "model_module": "@jupyter-widgets/controls",
      "model_module_version": "1.5.0",
      "model_name": "FloatSliderModel",
      "state": {
       "description": "pixelsize",
       "layout": "IPY_MODEL_f2284df55700482fb39cc0a21b67bc74",
       "max": 60,
       "min": 5.5,
       "step": 0.1,
       "style": "IPY_MODEL_fc1910c79ee84fd79de7145d839cd92c",
       "value": 11.7
      }
     },
     "6a882126a3ae46898f51be8bf30e2f60": {
      "model_module": "@jupyter-widgets/controls",
      "model_module_version": "1.5.0",
      "model_name": "IntSliderModel",
      "state": {
       "description": "apeture",
       "layout": "IPY_MODEL_2cc7e069d1394dddad340c7a971a1c8f",
       "min": 10,
       "style": "IPY_MODEL_600370e912ca49afbfa70eb9e07634ce",
       "value": 45
      }
     },
     "6afc09a615a1411c99a1f3353c883063": {
      "model_module": "@jupyter-widgets/controls",
      "model_module_version": "1.5.0",
      "model_name": "SliderStyleModel",
      "state": {
       "description_width": ""
      }
     },
     "6b08d2ba4c574f25a5a0599647450052": {
      "model_module": "jupyter-matplotlib",
      "model_module_version": "^0.7.4",
      "model_name": "ToolbarModel",
      "state": {
       "layout": "IPY_MODEL_7f5aab6932cd4c0e8b39e5a5932ad8b0",
       "toolitems": [
        [
         "Home",
         "Reset original view",
         "home",
         "home"
        ],
        [
         "Back",
         "Back to previous view",
         "arrow-left",
         "back"
        ],
        [
         "Forward",
         "Forward to next view",
         "arrow-right",
         "forward"
        ],
        [
         "Pan",
         "Left button pans, Right button zooms\nx/y fixes axis, CTRL fixes aspect",
         "arrows",
         "pan"
        ],
        [
         "Zoom",
         "Zoom to rectangle\nx/y fixes axis, CTRL fixes aspect",
         "square-o",
         "zoom"
        ],
        [
         "Download",
         "Download plot",
         "floppy-o",
         "save_figure"
        ]
       ]
      }
     },
     "6b0b06280b1e411f89feafb5d5a80f1f": {
      "model_module": "@jupyter-widgets/output",
      "model_module_version": "1.0.0",
      "model_name": "OutputModel",
      "state": {
       "layout": "IPY_MODEL_34cb0ddc2b8e485f8162006f03f3efda"
      }
     },
     "6c113abd30f242d690633d66c8bd28bc": {
      "model_module": "@jupyter-widgets/controls",
      "model_module_version": "1.5.0",
      "model_name": "FloatSliderModel",
      "state": {
       "description": "dlam",
       "layout": "IPY_MODEL_fb15c1a720b64350bacf721ce7597491",
       "max": 50,
       "min": 0.1,
       "step": 0.1,
       "style": "IPY_MODEL_ae51c948223b4bbc980c05e4e5dcc56f",
       "value": 15
      }
     },
     "6d1b1d00ed2f45f4a7abde7bda595db9": {
      "model_module": "@jupyter-widgets/controls",
      "model_module_version": "1.5.0",
      "model_name": "SliderStyleModel",
      "state": {
       "description_width": ""
      }
     },
     "6df9ec3493de4428aa40992dee2dc656": {
      "model_module": "@jupyter-widgets/controls",
      "model_module_version": "1.5.0",
      "model_name": "IntSliderModel",
      "state": {
       "description": "efl",
       "layout": "IPY_MODEL_d27411c8205f4485b06ceff2d633c6f8",
       "max": 1000,
       "min": 100,
       "step": 20,
       "style": "IPY_MODEL_6afc09a615a1411c99a1f3353c883063",
       "value": 330
      }
     },
     "6ef5b1a51b964899b0ca2cbaf701bcfe": {
      "model_module": "@jupyter-widgets/base",
      "model_module_version": "1.2.0",
      "model_name": "LayoutModel",
      "state": {}
     },
     "70a447c859f04f8d9f9c462fb092ed68": {
      "model_module": "@jupyter-widgets/controls",
      "model_module_version": "1.5.0",
      "model_name": "SliderStyleModel",
      "state": {
       "description_width": ""
      }
     },
     "722baf1ca44542e0943e9233973f6ca6": {
      "model_module": "@jupyter-widgets/controls",
      "model_module_version": "1.5.0",
      "model_name": "FloatSliderModel",
      "state": {
       "description": "dlam",
       "layout": "IPY_MODEL_44b8c0c4ea4d4c8e89fe1ec9aae6018a",
       "max": 50,
       "min": 0.1,
       "step": 0.1,
       "style": "IPY_MODEL_e42c85285d5c45f8842303d316f0d6bd",
       "value": 15
      }
     },
     "738055359be34a7592cf3bad16588571": {
      "model_module": "@jupyter-widgets/controls",
      "model_module_version": "1.5.0",
      "model_name": "SliderStyleModel",
      "state": {
       "description_width": ""
      }
     },
     "73b5d632dda04b0ab0b544f36d711b27": {
      "model_module": "@jupyter-widgets/base",
      "model_module_version": "1.2.0",
      "model_name": "LayoutModel",
      "state": {}
     },
     "748c6bbb29ff4b04b6b6de7da73b867c": {
      "model_module": "@jupyter-widgets/base",
      "model_module_version": "1.2.0",
      "model_name": "LayoutModel",
      "state": {}
     },
     "76490f43b6ea4e22bddcd7dbf2d00899": {
      "model_module": "@jupyter-widgets/base",
      "model_module_version": "1.2.0",
      "model_name": "LayoutModel",
      "state": {}
     },
     "771796dc1cd44b908931e7e7efcff2c2": {
      "model_module": "@jupyter-widgets/controls",
      "model_module_version": "1.5.0",
      "model_name": "SliderStyleModel",
      "state": {
       "description_width": ""
      }
     },
     "7772916f35f14d0199d3217709fa9637": {
      "model_module": "@jupyter-widgets/base",
      "model_module_version": "1.2.0",
      "model_name": "LayoutModel",
      "state": {}
     },
     "778d4b814db248018fc8ad5f796bffe1": {
      "model_module": "@jupyter-widgets/output",
      "model_module_version": "1.0.0",
      "model_name": "OutputModel",
      "state": {
       "layout": "IPY_MODEL_6584621cf5bb40abbc230915d90c9250",
       "outputs": [
        {
         "ename": "NameError",
         "evalue": "name 'pixelsize' is not defined",
         "output_type": "error",
         "traceback": [
          "\u001b[0;31m---------------------------------------------------------------------------\u001b[0m",
          "\u001b[0;31mNameError\u001b[0m                                 Traceback (most recent call last)",
          "\u001b[0;32m~/opt/anaconda3/envs/hsi-sn/lib/python3.7/site-packages/ipywidgets/widgets/interaction.py\u001b[0m in \u001b[0;36mupdate\u001b[0;34m(self, *args)\u001b[0m\n\u001b[1;32m    254\u001b[0m                     \u001b[0mvalue\u001b[0m \u001b[0;34m=\u001b[0m \u001b[0mwidget\u001b[0m\u001b[0;34m.\u001b[0m\u001b[0mget_interact_value\u001b[0m\u001b[0;34m(\u001b[0m\u001b[0;34m)\u001b[0m\u001b[0;34m\u001b[0m\u001b[0;34m\u001b[0m\u001b[0m\n\u001b[1;32m    255\u001b[0m                     \u001b[0mself\u001b[0m\u001b[0;34m.\u001b[0m\u001b[0mkwargs\u001b[0m\u001b[0;34m[\u001b[0m\u001b[0mwidget\u001b[0m\u001b[0;34m.\u001b[0m\u001b[0m_kwarg\u001b[0m\u001b[0;34m]\u001b[0m \u001b[0;34m=\u001b[0m \u001b[0mvalue\u001b[0m\u001b[0;34m\u001b[0m\u001b[0;34m\u001b[0m\u001b[0m\n\u001b[0;32m--> 256\u001b[0;31m                 \u001b[0mself\u001b[0m\u001b[0;34m.\u001b[0m\u001b[0mresult\u001b[0m \u001b[0;34m=\u001b[0m \u001b[0mself\u001b[0m\u001b[0;34m.\u001b[0m\u001b[0mf\u001b[0m\u001b[0;34m(\u001b[0m\u001b[0;34m**\u001b[0m\u001b[0mself\u001b[0m\u001b[0;34m.\u001b[0m\u001b[0mkwargs\u001b[0m\u001b[0;34m)\u001b[0m\u001b[0;34m\u001b[0m\u001b[0;34m\u001b[0m\u001b[0m\n\u001b[0m\u001b[1;32m    257\u001b[0m                 \u001b[0mshow_inline_matplotlib_plots\u001b[0m\u001b[0;34m(\u001b[0m\u001b[0;34m)\u001b[0m\u001b[0;34m\u001b[0m\u001b[0;34m\u001b[0m\u001b[0m\n\u001b[1;32m    258\u001b[0m                 \u001b[0;32mif\u001b[0m \u001b[0mself\u001b[0m\u001b[0;34m.\u001b[0m\u001b[0mauto_display\u001b[0m \u001b[0;32mand\u001b[0m \u001b[0mself\u001b[0m\u001b[0;34m.\u001b[0m\u001b[0mresult\u001b[0m \u001b[0;32mis\u001b[0m \u001b[0;32mnot\u001b[0m \u001b[0;32mNone\u001b[0m\u001b[0;34m:\u001b[0m\u001b[0;34m\u001b[0m\u001b[0;34m\u001b[0m\u001b[0m\n",
          "\u001b[0;32m<ipython-input-11-eec049757397>\u001b[0m in \u001b[0;36mupdate\u001b[0;34m(apeture, efl, pixel_size_x, pixel_size_y, int_time, dlam, anamorphic_factor)\u001b[0m\n\u001b[1;32m     20\u001b[0m                                                               \u001b[0minst_trans\u001b[0m\u001b[0;34m=\u001b[0m\u001b[0;36m0.8\u001b[0m\u001b[0;34m,\u001b[0m\u001b[0;34m\u001b[0m\u001b[0;34m\u001b[0m\u001b[0m\n\u001b[1;32m     21\u001b[0m                                                              anamorphic_factor=anamorphic_factor))\n\u001b[0;32m---> 22\u001b[0;31m     \u001b[0mgsd\u001b[0m\u001b[0;34m=\u001b[0m\u001b[0;36m550e3\u001b[0m\u001b[0;34m/\u001b[0m\u001b[0mefl\u001b[0m\u001b[0;34m*\u001b[0m\u001b[0;36m1e-3\u001b[0m \u001b[0;34m*\u001b[0m \u001b[0mpixelsize\u001b[0m\u001b[0;34m\u001b[0m\u001b[0;34m\u001b[0m\u001b[0m\n\u001b[0m\u001b[1;32m     23\u001b[0m     \u001b[0max\u001b[0m\u001b[0;34m.\u001b[0m\u001b[0mset_title\u001b[0m\u001b[0;34m(\u001b[0m\u001b[0;34m\"Mean S/N: {:.2f}, GSD: {}\"\u001b[0m\u001b[0;34m.\u001b[0m\u001b[0mformat\u001b[0m\u001b[0;34m(\u001b[0m\u001b[0mnp\u001b[0m\u001b[0;34m.\u001b[0m\u001b[0mnanmean\u001b[0m\u001b[0;34m(\u001b[0m\u001b[0mSN\u001b[0m\u001b[0;34m)\u001b[0m\u001b[0;34m,\u001b[0m\u001b[0mgsd\u001b[0m\u001b[0;34m)\u001b[0m\u001b[0;34m)\u001b[0m\u001b[0;34m\u001b[0m\u001b[0;34m\u001b[0m\u001b[0m\n\u001b[1;32m     24\u001b[0m     \u001b[0;31m#ax.set_ylim([0, np.nanmax(SN)*1.1])\u001b[0m\u001b[0;34m\u001b[0m\u001b[0;34m\u001b[0m\u001b[0;34m\u001b[0m\u001b[0m\n",
          "\u001b[0;31mNameError\u001b[0m: name 'pixelsize' is not defined"
         ]
        }
       ]
      }
     },
     "77a3a0c52c424313aa9999542fe3c2b3": {
      "model_module": "@jupyter-widgets/base",
      "model_module_version": "1.2.0",
      "model_name": "LayoutModel",
      "state": {}
     },
     "782c5d65c4b24224ac917510a95fc1df": {
      "model_module": "@jupyter-widgets/base",
      "model_module_version": "1.2.0",
      "model_name": "LayoutModel",
      "state": {}
     },
     "782eb0393cbd41b8b2e88950dd57c5a9": {
      "model_module": "@jupyter-widgets/controls",
      "model_module_version": "1.5.0",
      "model_name": "SliderStyleModel",
      "state": {
       "description_width": ""
      }
     },
     "795b4100b8a4401cbe3d07c843120b4d": {
      "model_module": "@jupyter-widgets/controls",
      "model_module_version": "1.5.0",
      "model_name": "SliderStyleModel",
      "state": {
       "description_width": ""
      }
     },
     "7ba28d363d0141c691b6f3b975203006": {
      "model_module": "@jupyter-widgets/controls",
      "model_module_version": "1.5.0",
      "model_name": "IntSliderModel",
      "state": {
       "description": "int_time",
       "layout": "IPY_MODEL_e587e33d886f4d8ebb4a0e985b916164",
       "max": 10,
       "min": 1,
       "style": "IPY_MODEL_af42b0355ac7475e8bbad01c3d041454",
       "value": 2
      }
     },
     "7cfc87c420744048870f886cdf865e23": {
      "model_module": "@jupyter-widgets/controls",
      "model_module_version": "1.5.0",
      "model_name": "SliderStyleModel",
      "state": {
       "description_width": ""
      }
     },
     "7d64e14325d2406496f361838429da3c": {
      "model_module": "@jupyter-widgets/base",
      "model_module_version": "1.2.0",
      "model_name": "LayoutModel",
      "state": {}
     },
     "7ed411c61fe145d196739794c6a6ab96": {
      "model_module": "@jupyter-widgets/controls",
      "model_module_version": "1.5.0",
      "model_name": "SliderStyleModel",
      "state": {
       "description_width": ""
      }
     },
     "7f5aab6932cd4c0e8b39e5a5932ad8b0": {
      "model_module": "@jupyter-widgets/base",
      "model_module_version": "1.2.0",
      "model_name": "LayoutModel",
      "state": {}
     },
     "7fc41b7769784e8092b9d2af47bce334": {
      "model_module": "@jupyter-widgets/base",
      "model_module_version": "1.2.0",
      "model_name": "LayoutModel",
      "state": {}
     },
     "80134462b7f04a5f9c36b181fd6cc1b1": {
      "model_module": "@jupyter-widgets/controls",
      "model_module_version": "1.5.0",
      "model_name": "VBoxModel",
      "state": {
       "_dom_classes": [
        "widget-interact"
       ],
       "children": [
        "IPY_MODEL_d654f67b780f4482b0272d516258097e",
        "IPY_MODEL_958c2c68f0c643029520fc437e39c4f5",
        "IPY_MODEL_69ad71b277e843d18f1e116ec863cf46",
        "IPY_MODEL_05a03a9fdbb74df6bb469765a4a59e34",
        "IPY_MODEL_6c113abd30f242d690633d66c8bd28bc",
        "IPY_MODEL_b380971bb98640829e6cfa613f0bb330",
        "IPY_MODEL_b9b4b189a6094132ad20b1ded9073b0e"
       ],
       "layout": "IPY_MODEL_c9659038f83c4e7ca8039fa7c8d39595"
      }
     },
     "80683fac474546cda6965dcb4aa7dcba": {
      "model_module": "@jupyter-widgets/controls",
      "model_module_version": "1.5.0",
      "model_name": "FloatSliderModel",
      "state": {
       "description": "dlam",
       "layout": "IPY_MODEL_0eedec8cc806488493b2c86d934aa088",
       "max": 50,
       "min": 0.1,
       "step": 0.1,
       "style": "IPY_MODEL_276c71dd6e7b403d85a18fd10ed88af8",
       "value": 15
      }
     },
     "80ad983f2fbd48be81596663d8d477ed": {
      "model_module": "@jupyter-widgets/base",
      "model_module_version": "1.2.0",
      "model_name": "LayoutModel",
      "state": {}
     },
     "80d6917bfb6f4355a83ffcd630df382b": {
      "model_module": "@jupyter-widgets/controls",
      "model_module_version": "1.5.0",
      "model_name": "FloatSliderModel",
      "state": {
       "description": "dlam",
       "layout": "IPY_MODEL_ba27661585a147b8bd3083b30b9afea5",
       "max": 50,
       "min": 0.1,
       "step": 0.1,
       "style": "IPY_MODEL_be221bb7a5354356b686edf8eac1a7c0",
       "value": 15
      }
     },
     "8157ed8ff88348fc81d037dbcbea86c3": {
      "model_module": "@jupyter-widgets/base",
      "model_module_version": "1.2.0",
      "model_name": "LayoutModel",
      "state": {}
     },
     "83a4d410c7654a8a88e1aec1c09adeef": {
      "model_module": "@jupyter-widgets/base",
      "model_module_version": "1.2.0",
      "model_name": "LayoutModel",
      "state": {}
     },
     "857528556c1a49a09c1b294cf0be4735": {
      "model_module": "jupyter-matplotlib",
      "model_module_version": "^0.7.4",
      "model_name": "ToolbarModel",
      "state": {
       "layout": "IPY_MODEL_a202275b83cf41b29e0bb258d787b4b7",
       "toolitems": [
        [
         "Home",
         "Reset original view",
         "home",
         "home"
        ],
        [
         "Back",
         "Back to previous view",
         "arrow-left",
         "back"
        ],
        [
         "Forward",
         "Forward to next view",
         "arrow-right",
         "forward"
        ],
        [
         "Pan",
         "Left button pans, Right button zooms\nx/y fixes axis, CTRL fixes aspect",
         "arrows",
         "pan"
        ],
        [
         "Zoom",
         "Zoom to rectangle\nx/y fixes axis, CTRL fixes aspect",
         "square-o",
         "zoom"
        ],
        [
         "Download",
         "Download plot",
         "floppy-o",
         "save_figure"
        ]
       ]
      }
     },
     "85a6c199d3434238a034e414079aac13": {
      "model_module": "@jupyter-widgets/controls",
      "model_module_version": "1.5.0",
      "model_name": "VBoxModel",
      "state": {
       "_dom_classes": [
        "widget-interact"
       ],
       "children": [
        "IPY_MODEL_efefe1f9d7f343eb9426a56c4fe410b0",
        "IPY_MODEL_41d7a60619a14c57b0ba43009d99ff61",
        "IPY_MODEL_105183a054d1471e8ab8881117225374",
        "IPY_MODEL_3cfe2d477e2a42eeb58fe875225ccd3a",
        "IPY_MODEL_36d94203f13d443f8e2caec501efd4db",
        "IPY_MODEL_57e56d66cab74fdf8314b477e02b10e5",
        "IPY_MODEL_ab7813726544416d8dd96fe529ee218b",
        "IPY_MODEL_6b0b06280b1e411f89feafb5d5a80f1f"
       ],
       "layout": "IPY_MODEL_782c5d65c4b24224ac917510a95fc1df"
      }
     },
     "869687d2ffd648eebd71b02544785a6f": {
      "model_module": "@jupyter-widgets/controls",
      "model_module_version": "1.5.0",
      "model_name": "IntSliderModel",
      "state": {
       "description": "efl",
       "layout": "IPY_MODEL_232b4e50438a4c69812e0b65e0127845",
       "max": 1000,
       "min": 100,
       "step": 20,
       "style": "IPY_MODEL_cdc12ef5eea74385a4bccd1b7a5b6167",
       "value": 330
      }
     },
     "87b3a5fc7d12432aa84a7a84914a22bf": {
      "model_module": "@jupyter-widgets/base",
      "model_module_version": "1.2.0",
      "model_name": "LayoutModel",
      "state": {}
     },
     "87e40db30a3f4d20829e26899ca86845": {
      "model_module": "@jupyter-widgets/controls",
      "model_module_version": "1.5.0",
      "model_name": "IntSliderModel",
      "state": {
       "description": "int_time",
       "layout": "IPY_MODEL_c36c501e3cb24a75852e7f4cc7a536de",
       "max": 10,
       "min": 1,
       "style": "IPY_MODEL_d45e35bf155e4fac91191b64efb9f7e1",
       "value": 2
      }
     },
     "888846cff59044e8956a49cf65ae17d1": {
      "model_module": "@jupyter-widgets/output",
      "model_module_version": "1.0.0",
      "model_name": "OutputModel",
      "state": {
       "layout": "IPY_MODEL_3fce4089440447a09b0996a85cf6ef39",
       "outputs": [
        {
         "ename": "IndexError",
         "evalue": "tuple index out of range",
         "output_type": "error",
         "traceback": [
          "\u001b[0;31m---------------------------------------------------------------------------\u001b[0m",
          "\u001b[0;31mIndexError\u001b[0m                                Traceback (most recent call last)",
          "\u001b[0;32m~/opt/anaconda3/envs/hsi-sn/lib/python3.7/site-packages/ipywidgets/widgets/interaction.py\u001b[0m in \u001b[0;36mupdate\u001b[0;34m(self, *args)\u001b[0m\n\u001b[1;32m    254\u001b[0m                     \u001b[0mvalue\u001b[0m \u001b[0;34m=\u001b[0m \u001b[0mwidget\u001b[0m\u001b[0;34m.\u001b[0m\u001b[0mget_interact_value\u001b[0m\u001b[0;34m(\u001b[0m\u001b[0;34m)\u001b[0m\u001b[0;34m\u001b[0m\u001b[0;34m\u001b[0m\u001b[0m\n\u001b[1;32m    255\u001b[0m                     \u001b[0mself\u001b[0m\u001b[0;34m.\u001b[0m\u001b[0mkwargs\u001b[0m\u001b[0;34m[\u001b[0m\u001b[0mwidget\u001b[0m\u001b[0;34m.\u001b[0m\u001b[0m_kwarg\u001b[0m\u001b[0;34m]\u001b[0m \u001b[0;34m=\u001b[0m \u001b[0mvalue\u001b[0m\u001b[0;34m\u001b[0m\u001b[0;34m\u001b[0m\u001b[0m\n\u001b[0;32m--> 256\u001b[0;31m                 \u001b[0mself\u001b[0m\u001b[0;34m.\u001b[0m\u001b[0mresult\u001b[0m \u001b[0;34m=\u001b[0m \u001b[0mself\u001b[0m\u001b[0;34m.\u001b[0m\u001b[0mf\u001b[0m\u001b[0;34m(\u001b[0m\u001b[0;34m**\u001b[0m\u001b[0mself\u001b[0m\u001b[0;34m.\u001b[0m\u001b[0mkwargs\u001b[0m\u001b[0;34m)\u001b[0m\u001b[0;34m\u001b[0m\u001b[0;34m\u001b[0m\u001b[0m\n\u001b[0m\u001b[1;32m    257\u001b[0m                 \u001b[0mshow_inline_matplotlib_plots\u001b[0m\u001b[0;34m(\u001b[0m\u001b[0;34m)\u001b[0m\u001b[0;34m\u001b[0m\u001b[0;34m\u001b[0m\u001b[0m\n\u001b[1;32m    258\u001b[0m                 \u001b[0;32mif\u001b[0m \u001b[0mself\u001b[0m\u001b[0;34m.\u001b[0m\u001b[0mauto_display\u001b[0m \u001b[0;32mand\u001b[0m \u001b[0mself\u001b[0m\u001b[0;34m.\u001b[0m\u001b[0mresult\u001b[0m \u001b[0;32mis\u001b[0m \u001b[0;32mnot\u001b[0m \u001b[0;32mNone\u001b[0m\u001b[0;34m:\u001b[0m\u001b[0;34m\u001b[0m\u001b[0;34m\u001b[0m\u001b[0m\n",
          "\u001b[0;32m<ipython-input-7-cd4cc8603fea>\u001b[0m in \u001b[0;36mupdate\u001b[0;34m(apeture, efl, pixelsize, int_time, dlam, anamorphic_factor)\u001b[0m\n\u001b[1;32m     21\u001b[0m                                                              anamorphic_factor=anamorphic_factor))\n\u001b[1;32m     22\u001b[0m     \u001b[0mgsd\u001b[0m\u001b[0;34m=\u001b[0m\u001b[0;36m550e3\u001b[0m\u001b[0;34m/\u001b[0m\u001b[0mefl\u001b[0m\u001b[0;34m*\u001b[0m\u001b[0;36m1e-3\u001b[0m \u001b[0;34m*\u001b[0m \u001b[0mpixelsize\u001b[0m\u001b[0;34m\u001b[0m\u001b[0;34m\u001b[0m\u001b[0m\n\u001b[0;32m---> 23\u001b[0;31m     \u001b[0max\u001b[0m\u001b[0;34m.\u001b[0m\u001b[0mset_title\u001b[0m\u001b[0;34m(\u001b[0m\u001b[0;34m\"Mean S/N: {:.2f}, GSD: {}\"\u001b[0m\u001b[0;34m.\u001b[0m\u001b[0mformat\u001b[0m\u001b[0;34m(\u001b[0m\u001b[0mnp\u001b[0m\u001b[0;34m.\u001b[0m\u001b[0mnanmean\u001b[0m\u001b[0;34m(\u001b[0m\u001b[0mSN\u001b[0m\u001b[0;34m)\u001b[0m\u001b[0;34m)\u001b[0m\u001b[0;34m)\u001b[0m\u001b[0;34m\u001b[0m\u001b[0;34m\u001b[0m\u001b[0m\n\u001b[0m\u001b[1;32m     24\u001b[0m     \u001b[0;31m#ax.set_ylim([0, np.nanmax(SN)*1.1])\u001b[0m\u001b[0;34m\u001b[0m\u001b[0;34m\u001b[0m\u001b[0;34m\u001b[0m\u001b[0m\n\u001b[1;32m     25\u001b[0m     \u001b[0max\u001b[0m\u001b[0;34m.\u001b[0m\u001b[0mplot\u001b[0m\u001b[0;34m(\u001b[0m\u001b[0mwv\u001b[0m\u001b[0;34m,\u001b[0m \u001b[0mSN\u001b[0m\u001b[0;34m,\u001b[0m \u001b[0mcolor\u001b[0m\u001b[0;34m=\u001b[0m\u001b[0;34m'C0'\u001b[0m\u001b[0;34m)\u001b[0m\u001b[0;34m\u001b[0m\u001b[0;34m\u001b[0m\u001b[0m\n",
          "\u001b[0;31mIndexError\u001b[0m: tuple index out of range"
         ]
        }
       ]
      }
     },
     "88c2eb88359844b5a21d8f8496a709c5": {
      "model_module": "@jupyter-widgets/controls",
      "model_module_version": "1.5.0",
      "model_name": "SliderStyleModel",
      "state": {
       "description_width": ""
      }
     },
     "8a4cb22ef4a04d54ade43af3693e6e83": {
      "model_module": "@jupyter-widgets/controls",
      "model_module_version": "1.5.0",
      "model_name": "SliderStyleModel",
      "state": {
       "description_width": ""
      }
     },
     "8b00e01e7e444838a5eba398543e7231": {
      "model_module": "@jupyter-widgets/controls",
      "model_module_version": "1.5.0",
      "model_name": "IntSliderModel",
      "state": {
       "description": "anamorphic_factor",
       "layout": "IPY_MODEL_c0696a4cd57e4dc58c734b193101e5c2",
       "max": 5,
       "min": 1,
       "style": "IPY_MODEL_795b4100b8a4401cbe3d07c843120b4d",
       "value": 1
      }
     },
     "8bd2aa423ab245bfa605bf737ec38920": {
      "model_module": "@jupyter-widgets/base",
      "model_module_version": "1.2.0",
      "model_name": "LayoutModel",
      "state": {}
     },
     "8f239f67959a456bb5880e564c442608": {
      "model_module": "@jupyter-widgets/controls",
      "model_module_version": "1.5.0",
      "model_name": "SliderStyleModel",
      "state": {
       "description_width": ""
      }
     },
     "8fa4d71520b4455da155e6436639a382": {
      "model_module": "@jupyter-widgets/controls",
      "model_module_version": "1.5.0",
      "model_name": "FloatSliderModel",
      "state": {
       "description": "dlam",
       "layout": "IPY_MODEL_b9044b7a5b554ee18d9a4a367badc57f",
       "max": 50,
       "min": 0.1,
       "step": 0.1,
       "style": "IPY_MODEL_3c1085dbb8164003ad927f14b29df4c5",
       "value": 15
      }
     },
     "8fb9dc84e8f34a7aad2a3c014f7d6bd6": {
      "model_module": "@jupyter-widgets/controls",
      "model_module_version": "1.5.0",
      "model_name": "FloatSliderModel",
      "state": {
       "description": "pixel_size_y",
       "layout": "IPY_MODEL_d2ddf0608be544f98022882202277fdd",
       "max": 60,
       "min": 5.5,
       "step": 0.1,
       "style": "IPY_MODEL_2a155d20b55a469eae815182f3c164b8",
       "value": 11.7
      }
     },
     "902e22f25d4748e782532e754a9df69e": {
      "model_module": "@jupyter-widgets/base",
      "model_module_version": "1.2.0",
      "model_name": "LayoutModel",
      "state": {}
     },
     "9192bb62e8d54ae59c6472d265f35d01": {
      "model_module": "@jupyter-widgets/base",
      "model_module_version": "1.2.0",
      "model_name": "LayoutModel",
      "state": {}
     },
     "91a5250d73374246bebd5148341d0ebc": {
      "model_module": "@jupyter-widgets/base",
      "model_module_version": "1.2.0",
      "model_name": "LayoutModel",
      "state": {}
     },
     "921d07e7830641efbf0c18f3e6329cd7": {
      "model_module": "@jupyter-widgets/base",
      "model_module_version": "1.2.0",
      "model_name": "LayoutModel",
      "state": {}
     },
     "92a0c19d69e54bc0a8412e27966a4212": {
      "model_module": "@jupyter-widgets/controls",
      "model_module_version": "1.5.0",
      "model_name": "IntSliderModel",
      "state": {
       "description": "int_time",
       "layout": "IPY_MODEL_22f8898354a541c7a3da73fa82654be9",
       "max": 10,
       "min": 1,
       "style": "IPY_MODEL_782eb0393cbd41b8b2e88950dd57c5a9",
       "value": 2
      }
     },
     "958c2c68f0c643029520fc437e39c4f5": {
      "model_module": "@jupyter-widgets/controls",
      "model_module_version": "1.5.0",
      "model_name": "IntSliderModel",
      "state": {
       "description": "efl",
       "layout": "IPY_MODEL_072f4eb99934468c89cc1307fe8dfa53",
       "max": 1000,
       "min": 100,
       "step": 20,
       "style": "IPY_MODEL_8a4cb22ef4a04d54ade43af3693e6e83",
       "value": 330
      }
     },
     "95b3d98b5e664bb1b9fce5a0415f7a77": {
      "model_module": "@jupyter-widgets/controls",
      "model_module_version": "1.5.0",
      "model_name": "VBoxModel",
      "state": {
       "_dom_classes": [
        "widget-interact"
       ],
       "children": [
        "IPY_MODEL_ea8abf64af644db993e64b5790cc46bd",
        "IPY_MODEL_297f46a93d9945b8a10896d83064175b",
        "IPY_MODEL_3656f842c54b47bb9aa8b5c4ca703d9b",
        "IPY_MODEL_87e40db30a3f4d20829e26899ca86845",
        "IPY_MODEL_e14b49949a2f483aa9dbfe7d0732f4b3",
        "IPY_MODEL_120a9d2a201d41d38c22230d986e3143",
        "IPY_MODEL_888846cff59044e8956a49cf65ae17d1"
       ],
       "layout": "IPY_MODEL_91a5250d73374246bebd5148341d0ebc"
      }
     },
     "98d440c5fe214b639aea4cc92cab6304": {
      "model_module": "@jupyter-widgets/base",
      "model_module_version": "1.2.0",
      "model_name": "LayoutModel",
      "state": {}
     },
     "9a900aec33a9441ba6d733f88f7ea7aa": {
      "model_module": "@jupyter-widgets/base",
      "model_module_version": "1.2.0",
      "model_name": "LayoutModel",
      "state": {}
     },
     "9b4447f862bb418c9ccedbbf464d1403": {
      "model_module": "jupyter-matplotlib",
      "model_module_version": "^0.7.4",
      "model_name": "ToolbarModel",
      "state": {
       "layout": "IPY_MODEL_282faa61f2de4936afc8a1753caf1b62",
       "toolitems": [
        [
         "Home",
         "Reset original view",
         "home",
         "home"
        ],
        [
         "Back",
         "Back to previous view",
         "arrow-left",
         "back"
        ],
        [
         "Forward",
         "Forward to next view",
         "arrow-right",
         "forward"
        ],
        [
         "Pan",
         "Left button pans, Right button zooms\nx/y fixes axis, CTRL fixes aspect",
         "arrows",
         "pan"
        ],
        [
         "Zoom",
         "Zoom to rectangle\nx/y fixes axis, CTRL fixes aspect",
         "square-o",
         "zoom"
        ],
        [
         "Download",
         "Download plot",
         "floppy-o",
         "save_figure"
        ]
       ]
      }
     },
     "9d48ac06f05b431b8c1a7f5faba8d05c": {
      "model_module": "@jupyter-widgets/base",
      "model_module_version": "1.2.0",
      "model_name": "LayoutModel",
      "state": {}
     },
     "9d5923b224a34560a8f0ab3c876972d7": {
      "model_module": "@jupyter-widgets/base",
      "model_module_version": "1.2.0",
      "model_name": "LayoutModel",
      "state": {}
     },
     "9e6b1481493a4e8ca4f644aa4fd0f5f9": {
      "model_module": "@jupyter-widgets/output",
      "model_module_version": "1.0.0",
      "model_name": "OutputModel",
      "state": {
       "layout": "IPY_MODEL_b2c39614abc04398a8291bdbdb81e56b"
      }
     },
     "9f7859d56b2b4146ad70ec670e323f75": {
      "model_module": "@jupyter-widgets/base",
      "model_module_version": "1.2.0",
      "model_name": "LayoutModel",
      "state": {}
     },
     "a0be026e29b04b6dab0aa0f681fd785a": {
      "model_module": "@jupyter-widgets/controls",
      "model_module_version": "1.5.0",
      "model_name": "IntSliderModel",
      "state": {
       "description": "apeture",
       "layout": "IPY_MODEL_11071866399a410a8b639d4090e9fede",
       "min": 10,
       "style": "IPY_MODEL_b9f20f984f774ff6bce390b423f84e3c",
       "value": 63
      }
     },
     "a1982906f6e947309f559047718ff415": {
      "model_module": "@jupyter-widgets/base",
      "model_module_version": "1.2.0",
      "model_name": "LayoutModel",
      "state": {}
     },
     "a202275b83cf41b29e0bb258d787b4b7": {
      "model_module": "@jupyter-widgets/base",
      "model_module_version": "1.2.0",
      "model_name": "LayoutModel",
      "state": {}
     },
     "a2bc8359cfb246e9be479550e66ccf90": {
      "model_module": "@jupyter-widgets/base",
      "model_module_version": "1.2.0",
      "model_name": "LayoutModel",
      "state": {}
     },
     "a2e05967e9f54114a9c6f42382a6339d": {
      "model_module": "jupyter-matplotlib",
      "model_module_version": "^0.7.4",
      "model_name": "ToolbarModel",
      "state": {
       "layout": "IPY_MODEL_2d2d2810eb8541518c33ededf53abbf6",
       "toolitems": [
        [
         "Home",
         "Reset original view",
         "home",
         "home"
        ],
        [
         "Back",
         "Back to previous view",
         "arrow-left",
         "back"
        ],
        [
         "Forward",
         "Forward to next view",
         "arrow-right",
         "forward"
        ],
        [
         "Pan",
         "Left button pans, Right button zooms\nx/y fixes axis, CTRL fixes aspect",
         "arrows",
         "pan"
        ],
        [
         "Zoom",
         "Zoom to rectangle\nx/y fixes axis, CTRL fixes aspect",
         "square-o",
         "zoom"
        ],
        [
         "Download",
         "Download plot",
         "floppy-o",
         "save_figure"
        ]
       ]
      }
     },
     "a305b7c353f741d691b88f279ee784a7": {
      "model_module": "jupyter-matplotlib",
      "model_module_version": "^0.7.4",
      "model_name": "MPLCanvasModel",
      "state": {
       "_cursor": "default",
       "_figure_label": "Figure 6",
       "_height": 400,
       "_width": 600,
       "layout": "IPY_MODEL_8bd2aa423ab245bfa605bf737ec38920",
       "toolbar": "IPY_MODEL_ca7cb00b7391405f99f8d6f22b322da9",
       "toolbar_position": "left"
      }
     },
     "a382cd8995bf4c09a25a774ec7afa6e0": {
      "model_module": "@jupyter-widgets/base",
      "model_module_version": "1.2.0",
      "model_name": "LayoutModel",
      "state": {}
     },
     "a5bcb118f08945caaba83d1d2cd18b7d": {
      "model_module": "@jupyter-widgets/base",
      "model_module_version": "1.2.0",
      "model_name": "LayoutModel",
      "state": {}
     },
     "a647503434e74c99870d761441e2c9fc": {
      "model_module": "@jupyter-widgets/base",
      "model_module_version": "1.2.0",
      "model_name": "LayoutModel",
      "state": {}
     },
     "a8958b54713a48888df8c22972a6e096": {
      "model_module": "@jupyter-widgets/controls",
      "model_module_version": "1.5.0",
      "model_name": "IntSliderModel",
      "state": {
       "description": "anamorphic_factor",
       "layout": "IPY_MODEL_77a3a0c52c424313aa9999542fe3c2b3",
       "max": 5,
       "min": 1,
       "style": "IPY_MODEL_3d8aa382079246c3b5096a00a6519796",
       "value": 1
      }
     },
     "a933923ff99740f89f6428308fa5a5ef": {
      "model_module": "@jupyter-widgets/base",
      "model_module_version": "1.2.0",
      "model_name": "LayoutModel",
      "state": {}
     },
     "a95fdc25992440edbb45f40179e336a3": {
      "model_module": "@jupyter-widgets/output",
      "model_module_version": "1.0.0",
      "model_name": "OutputModel",
      "state": {
       "layout": "IPY_MODEL_de896b8cd4834cca8d0b4e0931363cd3",
       "outputs": [
        {
         "ename": "NameError",
         "evalue": "name 'pixelsize' is not defined",
         "output_type": "error",
         "traceback": [
          "\u001b[0;31m---------------------------------------------------------------------------\u001b[0m",
          "\u001b[0;31mNameError\u001b[0m                                 Traceback (most recent call last)",
          "\u001b[0;32m~/opt/anaconda3/envs/hsi-sn/lib/python3.7/site-packages/ipywidgets/widgets/interaction.py\u001b[0m in \u001b[0;36mupdate\u001b[0;34m(self, *args)\u001b[0m\n\u001b[1;32m    254\u001b[0m                     \u001b[0mvalue\u001b[0m \u001b[0;34m=\u001b[0m \u001b[0mwidget\u001b[0m\u001b[0;34m.\u001b[0m\u001b[0mget_interact_value\u001b[0m\u001b[0;34m(\u001b[0m\u001b[0;34m)\u001b[0m\u001b[0;34m\u001b[0m\u001b[0;34m\u001b[0m\u001b[0m\n\u001b[1;32m    255\u001b[0m                     \u001b[0mself\u001b[0m\u001b[0;34m.\u001b[0m\u001b[0mkwargs\u001b[0m\u001b[0;34m[\u001b[0m\u001b[0mwidget\u001b[0m\u001b[0;34m.\u001b[0m\u001b[0m_kwarg\u001b[0m\u001b[0;34m]\u001b[0m \u001b[0;34m=\u001b[0m \u001b[0mvalue\u001b[0m\u001b[0;34m\u001b[0m\u001b[0;34m\u001b[0m\u001b[0m\n\u001b[0;32m--> 256\u001b[0;31m                 \u001b[0mself\u001b[0m\u001b[0;34m.\u001b[0m\u001b[0mresult\u001b[0m \u001b[0;34m=\u001b[0m \u001b[0mself\u001b[0m\u001b[0;34m.\u001b[0m\u001b[0mf\u001b[0m\u001b[0;34m(\u001b[0m\u001b[0;34m**\u001b[0m\u001b[0mself\u001b[0m\u001b[0;34m.\u001b[0m\u001b[0mkwargs\u001b[0m\u001b[0;34m)\u001b[0m\u001b[0;34m\u001b[0m\u001b[0;34m\u001b[0m\u001b[0m\n\u001b[0m\u001b[1;32m    257\u001b[0m                 \u001b[0mshow_inline_matplotlib_plots\u001b[0m\u001b[0;34m(\u001b[0m\u001b[0;34m)\u001b[0m\u001b[0;34m\u001b[0m\u001b[0;34m\u001b[0m\u001b[0m\n\u001b[1;32m    258\u001b[0m                 \u001b[0;32mif\u001b[0m \u001b[0mself\u001b[0m\u001b[0;34m.\u001b[0m\u001b[0mauto_display\u001b[0m \u001b[0;32mand\u001b[0m \u001b[0mself\u001b[0m\u001b[0;34m.\u001b[0m\u001b[0mresult\u001b[0m \u001b[0;32mis\u001b[0m \u001b[0;32mnot\u001b[0m \u001b[0;32mNone\u001b[0m\u001b[0;34m:\u001b[0m\u001b[0;34m\u001b[0m\u001b[0;34m\u001b[0m\u001b[0m\n",
          "\u001b[0;32m<ipython-input-8-c21aff4c368c>\u001b[0m in \u001b[0;36mupdate\u001b[0;34m(apeture, efl, pixel_size_x, pixel_size_y, int_time, dlam, anamorphic_factor)\u001b[0m\n\u001b[1;32m     14\u001b[0m                                                               \u001b[0mapeture\u001b[0m\u001b[0;34m=\u001b[0m\u001b[0mapeture\u001b[0m\u001b[0;34m*\u001b[0m\u001b[0;36m1e-3\u001b[0m\u001b[0;34m,\u001b[0m\u001b[0;34m\u001b[0m\u001b[0;34m\u001b[0m\u001b[0m\n\u001b[1;32m     15\u001b[0m                                                               \u001b[0mefl\u001b[0m\u001b[0;34m=\u001b[0m\u001b[0mefl\u001b[0m\u001b[0;34m*\u001b[0m\u001b[0;36m1e-3\u001b[0m\u001b[0;34m,\u001b[0m\u001b[0;34m\u001b[0m\u001b[0;34m\u001b[0m\u001b[0m\n\u001b[0;32m---> 16\u001b[0;31m                                                               \u001b[0mpixelsize\u001b[0m\u001b[0;34m=\u001b[0m\u001b[0mpixelsize\u001b[0m\u001b[0;34m*\u001b[0m\u001b[0;36m1e-6\u001b[0m\u001b[0;34m,\u001b[0m\u001b[0;34m\u001b[0m\u001b[0;34m\u001b[0m\u001b[0m\n\u001b[0m\u001b[1;32m     17\u001b[0m                                                               \u001b[0mint_time\u001b[0m\u001b[0;34m=\u001b[0m\u001b[0mint_time\u001b[0m\u001b[0;34m*\u001b[0m\u001b[0;36m1e-3\u001b[0m\u001b[0;34m,\u001b[0m\u001b[0;34m\u001b[0m\u001b[0;34m\u001b[0m\u001b[0m\n\u001b[1;32m     18\u001b[0m                                                               \u001b[0mdlam\u001b[0m\u001b[0;34m=\u001b[0m\u001b[0mdlam\u001b[0m\u001b[0;34m*\u001b[0m\u001b[0;36m1e-3\u001b[0m\u001b[0;34m,\u001b[0m\u001b[0;34m\u001b[0m\u001b[0;34m\u001b[0m\u001b[0m\n",
          "\u001b[0;31mNameError\u001b[0m: name 'pixelsize' is not defined"
         ]
        }
       ]
      }
     },
     "a9cb2307309a49ee9eb26ec4899b71b3": {
      "model_module": "@jupyter-widgets/controls",
      "model_module_version": "1.5.0",
      "model_name": "FloatSliderModel",
      "state": {
       "description": "dlam",
       "layout": "IPY_MODEL_c8380ca0b3db497dabf7f2b7cc3ac196",
       "max": 50,
       "min": 0.1,
       "step": 0.1,
       "style": "IPY_MODEL_3c48d5446a534e769441e9168dd020da",
       "value": 15
      }
     },
     "ab7813726544416d8dd96fe529ee218b": {
      "model_module": "@jupyter-widgets/controls",
      "model_module_version": "1.5.0",
      "model_name": "IntSliderModel",
      "state": {
       "description": "anamorphic_factor",
       "layout": "IPY_MODEL_d96642f215b844a49fe56077df63e1c6",
       "max": 5,
       "min": 1,
       "style": "IPY_MODEL_d9dd7bca97c44d788e511ef89b68d33b",
       "value": 1
      }
     },
     "ae51c948223b4bbc980c05e4e5dcc56f": {
      "model_module": "@jupyter-widgets/controls",
      "model_module_version": "1.5.0",
      "model_name": "SliderStyleModel",
      "state": {
       "description_width": ""
      }
     },
     "aeb2a0d0bd58400cb5b86756a0248683": {
      "model_module": "@jupyter-widgets/controls",
      "model_module_version": "1.5.0",
      "model_name": "SliderStyleModel",
      "state": {
       "description_width": ""
      }
     },
     "aefa43b8a6c54944bb88506ae4cb0cb0": {
      "model_module": "@jupyter-widgets/controls",
      "model_module_version": "1.5.0",
      "model_name": "SliderStyleModel",
      "state": {
       "description_width": ""
      }
     },
     "af173c3fe2c34fd88f3f6c61be528d77": {
      "model_module": "@jupyter-widgets/output",
      "model_module_version": "1.0.0",
      "model_name": "OutputModel",
      "state": {
       "layout": "IPY_MODEL_552fa31a0c8340eb9701c7584ca89e25",
       "outputs": [
        {
         "ename": "IndexError",
         "evalue": "tuple index out of range",
         "output_type": "error",
         "traceback": [
          "\u001b[0;31m---------------------------------------------------------------------------\u001b[0m",
          "\u001b[0;31mIndexError\u001b[0m                                Traceback (most recent call last)",
          "\u001b[0;32m~/opt/anaconda3/envs/hsi-sn/lib/python3.7/site-packages/ipywidgets/widgets/interaction.py\u001b[0m in \u001b[0;36mupdate\u001b[0;34m(self, *args)\u001b[0m\n\u001b[1;32m    254\u001b[0m                     \u001b[0mvalue\u001b[0m \u001b[0;34m=\u001b[0m \u001b[0mwidget\u001b[0m\u001b[0;34m.\u001b[0m\u001b[0mget_interact_value\u001b[0m\u001b[0;34m(\u001b[0m\u001b[0;34m)\u001b[0m\u001b[0;34m\u001b[0m\u001b[0;34m\u001b[0m\u001b[0m\n\u001b[1;32m    255\u001b[0m                     \u001b[0mself\u001b[0m\u001b[0;34m.\u001b[0m\u001b[0mkwargs\u001b[0m\u001b[0;34m[\u001b[0m\u001b[0mwidget\u001b[0m\u001b[0;34m.\u001b[0m\u001b[0m_kwarg\u001b[0m\u001b[0;34m]\u001b[0m \u001b[0;34m=\u001b[0m \u001b[0mvalue\u001b[0m\u001b[0;34m\u001b[0m\u001b[0;34m\u001b[0m\u001b[0m\n\u001b[0;32m--> 256\u001b[0;31m                 \u001b[0mself\u001b[0m\u001b[0;34m.\u001b[0m\u001b[0mresult\u001b[0m \u001b[0;34m=\u001b[0m \u001b[0mself\u001b[0m\u001b[0;34m.\u001b[0m\u001b[0mf\u001b[0m\u001b[0;34m(\u001b[0m\u001b[0;34m**\u001b[0m\u001b[0mself\u001b[0m\u001b[0;34m.\u001b[0m\u001b[0mkwargs\u001b[0m\u001b[0;34m)\u001b[0m\u001b[0;34m\u001b[0m\u001b[0;34m\u001b[0m\u001b[0m\n\u001b[0m\u001b[1;32m    257\u001b[0m                 \u001b[0mshow_inline_matplotlib_plots\u001b[0m\u001b[0;34m(\u001b[0m\u001b[0;34m)\u001b[0m\u001b[0;34m\u001b[0m\u001b[0;34m\u001b[0m\u001b[0m\n\u001b[1;32m    258\u001b[0m                 \u001b[0;32mif\u001b[0m \u001b[0mself\u001b[0m\u001b[0;34m.\u001b[0m\u001b[0mauto_display\u001b[0m \u001b[0;32mand\u001b[0m \u001b[0mself\u001b[0m\u001b[0;34m.\u001b[0m\u001b[0mresult\u001b[0m \u001b[0;32mis\u001b[0m \u001b[0;32mnot\u001b[0m \u001b[0;32mNone\u001b[0m\u001b[0;34m:\u001b[0m\u001b[0;34m\u001b[0m\u001b[0;34m\u001b[0m\u001b[0m\n",
          "\u001b[0;32m<ipython-input-13-cd4cc8603fea>\u001b[0m in \u001b[0;36mupdate\u001b[0;34m(apeture, efl, pixelsize, int_time, dlam, anamorphic_factor)\u001b[0m\n\u001b[1;32m     21\u001b[0m                                                              anamorphic_factor=anamorphic_factor))\n\u001b[1;32m     22\u001b[0m     \u001b[0mgsd\u001b[0m\u001b[0;34m=\u001b[0m\u001b[0;36m550e3\u001b[0m\u001b[0;34m/\u001b[0m\u001b[0mefl\u001b[0m\u001b[0;34m*\u001b[0m\u001b[0;36m1e-3\u001b[0m \u001b[0;34m*\u001b[0m \u001b[0mpixelsize\u001b[0m\u001b[0;34m\u001b[0m\u001b[0;34m\u001b[0m\u001b[0m\n\u001b[0;32m---> 23\u001b[0;31m     \u001b[0max\u001b[0m\u001b[0;34m.\u001b[0m\u001b[0mset_title\u001b[0m\u001b[0;34m(\u001b[0m\u001b[0;34m\"Mean S/N: {:.2f}, GSD: {}\"\u001b[0m\u001b[0;34m.\u001b[0m\u001b[0mformat\u001b[0m\u001b[0;34m(\u001b[0m\u001b[0mnp\u001b[0m\u001b[0;34m.\u001b[0m\u001b[0mnanmean\u001b[0m\u001b[0;34m(\u001b[0m\u001b[0mSN\u001b[0m\u001b[0;34m)\u001b[0m\u001b[0;34m)\u001b[0m\u001b[0;34m)\u001b[0m\u001b[0;34m\u001b[0m\u001b[0;34m\u001b[0m\u001b[0m\n\u001b[0m\u001b[1;32m     24\u001b[0m     \u001b[0;31m#ax.set_ylim([0, np.nanmax(SN)*1.1])\u001b[0m\u001b[0;34m\u001b[0m\u001b[0;34m\u001b[0m\u001b[0;34m\u001b[0m\u001b[0m\n\u001b[1;32m     25\u001b[0m     \u001b[0max\u001b[0m\u001b[0;34m.\u001b[0m\u001b[0mplot\u001b[0m\u001b[0;34m(\u001b[0m\u001b[0mwv\u001b[0m\u001b[0;34m,\u001b[0m \u001b[0mSN\u001b[0m\u001b[0;34m,\u001b[0m \u001b[0mcolor\u001b[0m\u001b[0;34m=\u001b[0m\u001b[0;34m'C0'\u001b[0m\u001b[0;34m)\u001b[0m\u001b[0;34m\u001b[0m\u001b[0;34m\u001b[0m\u001b[0m\n",
          "\u001b[0;31mIndexError\u001b[0m: tuple index out of range"
         ]
        }
       ]
      }
     },
     "af42b0355ac7475e8bbad01c3d041454": {
      "model_module": "@jupyter-widgets/controls",
      "model_module_version": "1.5.0",
      "model_name": "SliderStyleModel",
      "state": {
       "description_width": ""
      }
     },
     "b2c39614abc04398a8291bdbdb81e56b": {
      "model_module": "@jupyter-widgets/base",
      "model_module_version": "1.2.0",
      "model_name": "LayoutModel",
      "state": {}
     },
     "b2ec41e885a1491d81599440afcbab97": {
      "model_module": "@jupyter-widgets/controls",
      "model_module_version": "1.5.0",
      "model_name": "SliderStyleModel",
      "state": {
       "description_width": ""
      }
     },
     "b380971bb98640829e6cfa613f0bb330": {
      "model_module": "@jupyter-widgets/controls",
      "model_module_version": "1.5.0",
      "model_name": "IntSliderModel",
      "state": {
       "description": "anamorphic_factor",
       "layout": "IPY_MODEL_83a4d410c7654a8a88e1aec1c09adeef",
       "max": 5,
       "min": 1,
       "style": "IPY_MODEL_64239bdc81af46cc928e191afaa13d62",
       "value": 1
      }
     },
     "b60b25b546d14866befcf2afe75ab27f": {
      "model_module": "jupyter-matplotlib",
      "model_module_version": "^0.7.4",
      "model_name": "ToolbarModel",
      "state": {
       "layout": "IPY_MODEL_bb7c9489b99343518835cb6dd865ea50",
       "toolitems": [
        [
         "Home",
         "Reset original view",
         "home",
         "home"
        ],
        [
         "Back",
         "Back to previous view",
         "arrow-left",
         "back"
        ],
        [
         "Forward",
         "Forward to next view",
         "arrow-right",
         "forward"
        ],
        [
         "Pan",
         "Left button pans, Right button zooms\nx/y fixes axis, CTRL fixes aspect",
         "arrows",
         "pan"
        ],
        [
         "Zoom",
         "Zoom to rectangle\nx/y fixes axis, CTRL fixes aspect",
         "square-o",
         "zoom"
        ],
        [
         "Download",
         "Download plot",
         "floppy-o",
         "save_figure"
        ]
       ]
      }
     },
     "b6555488f5d84047a1e2cff01ad77fdc": {
      "model_module": "@jupyter-widgets/controls",
      "model_module_version": "1.5.0",
      "model_name": "IntSliderModel",
      "state": {
       "description": "int_time",
       "layout": "IPY_MODEL_921d07e7830641efbf0c18f3e6329cd7",
       "max": 10,
       "min": 1,
       "style": "IPY_MODEL_3a62e55f3f8a4a19a9c4900566463a9d",
       "value": 2
      }
     },
     "b6a8fb571138457fbcd0be68a73543e9": {
      "model_module": "@jupyter-widgets/base",
      "model_module_version": "1.2.0",
      "model_name": "LayoutModel",
      "state": {}
     },
     "b9044b7a5b554ee18d9a4a367badc57f": {
      "model_module": "@jupyter-widgets/base",
      "model_module_version": "1.2.0",
      "model_name": "LayoutModel",
      "state": {}
     },
     "b90f648b35a24b66bae93ccab17cbd30": {
      "model_module": "@jupyter-widgets/base",
      "model_module_version": "1.2.0",
      "model_name": "LayoutModel",
      "state": {}
     },
     "b983eb11e65d43128f5a12da8eb99c41": {
      "model_module": "@jupyter-widgets/controls",
      "model_module_version": "1.5.0",
      "model_name": "FloatSliderModel",
      "state": {
       "description": "pixel_size_x",
       "layout": "IPY_MODEL_c0c26cc5f4b54e029a61f222d0833d03",
       "max": 60,
       "min": 5.5,
       "step": 0.1,
       "style": "IPY_MODEL_b2ec41e885a1491d81599440afcbab97",
       "value": 25
      }
     },
     "b9b4b189a6094132ad20b1ded9073b0e": {
      "model_module": "@jupyter-widgets/output",
      "model_module_version": "1.0.0",
      "model_name": "OutputModel",
      "state": {
       "layout": "IPY_MODEL_c0f0f794cce846ffb7f1d26dc9277576",
       "outputs": [
        {
         "ename": "IndexError",
         "evalue": "tuple index out of range",
         "output_type": "error",
         "traceback": [
          "\u001b[0;31m---------------------------------------------------------------------------\u001b[0m",
          "\u001b[0;31mIndexError\u001b[0m                                Traceback (most recent call last)",
          "\u001b[0;32m~/opt/anaconda3/envs/hsi-sn/lib/python3.7/site-packages/ipywidgets/widgets/interaction.py\u001b[0m in \u001b[0;36mupdate\u001b[0;34m(self, *args)\u001b[0m\n\u001b[1;32m    254\u001b[0m                     \u001b[0mvalue\u001b[0m \u001b[0;34m=\u001b[0m \u001b[0mwidget\u001b[0m\u001b[0;34m.\u001b[0m\u001b[0mget_interact_value\u001b[0m\u001b[0;34m(\u001b[0m\u001b[0;34m)\u001b[0m\u001b[0;34m\u001b[0m\u001b[0;34m\u001b[0m\u001b[0m\n\u001b[1;32m    255\u001b[0m                     \u001b[0mself\u001b[0m\u001b[0;34m.\u001b[0m\u001b[0mkwargs\u001b[0m\u001b[0;34m[\u001b[0m\u001b[0mwidget\u001b[0m\u001b[0;34m.\u001b[0m\u001b[0m_kwarg\u001b[0m\u001b[0;34m]\u001b[0m \u001b[0;34m=\u001b[0m \u001b[0mvalue\u001b[0m\u001b[0;34m\u001b[0m\u001b[0;34m\u001b[0m\u001b[0m\n\u001b[0;32m--> 256\u001b[0;31m                 \u001b[0mself\u001b[0m\u001b[0;34m.\u001b[0m\u001b[0mresult\u001b[0m \u001b[0;34m=\u001b[0m \u001b[0mself\u001b[0m\u001b[0;34m.\u001b[0m\u001b[0mf\u001b[0m\u001b[0;34m(\u001b[0m\u001b[0;34m**\u001b[0m\u001b[0mself\u001b[0m\u001b[0;34m.\u001b[0m\u001b[0mkwargs\u001b[0m\u001b[0;34m)\u001b[0m\u001b[0;34m\u001b[0m\u001b[0;34m\u001b[0m\u001b[0m\n\u001b[0m\u001b[1;32m    257\u001b[0m                 \u001b[0mshow_inline_matplotlib_plots\u001b[0m\u001b[0;34m(\u001b[0m\u001b[0;34m)\u001b[0m\u001b[0;34m\u001b[0m\u001b[0;34m\u001b[0m\u001b[0m\n\u001b[1;32m    258\u001b[0m                 \u001b[0;32mif\u001b[0m \u001b[0mself\u001b[0m\u001b[0;34m.\u001b[0m\u001b[0mauto_display\u001b[0m \u001b[0;32mand\u001b[0m \u001b[0mself\u001b[0m\u001b[0;34m.\u001b[0m\u001b[0mresult\u001b[0m \u001b[0;32mis\u001b[0m \u001b[0;32mnot\u001b[0m \u001b[0;32mNone\u001b[0m\u001b[0;34m:\u001b[0m\u001b[0;34m\u001b[0m\u001b[0;34m\u001b[0m\u001b[0m\n",
          "\u001b[0;32m<ipython-input-6-cd4cc8603fea>\u001b[0m in \u001b[0;36mupdate\u001b[0;34m(apeture, efl, pixelsize, int_time, dlam, anamorphic_factor)\u001b[0m\n\u001b[1;32m     21\u001b[0m                                                              anamorphic_factor=anamorphic_factor))\n\u001b[1;32m     22\u001b[0m     \u001b[0mgsd\u001b[0m\u001b[0;34m=\u001b[0m\u001b[0;36m550e3\u001b[0m\u001b[0;34m/\u001b[0m\u001b[0mefl\u001b[0m\u001b[0;34m*\u001b[0m\u001b[0;36m1e-3\u001b[0m \u001b[0;34m*\u001b[0m \u001b[0mpixelsize\u001b[0m\u001b[0;34m\u001b[0m\u001b[0;34m\u001b[0m\u001b[0m\n\u001b[0;32m---> 23\u001b[0;31m     \u001b[0max\u001b[0m\u001b[0;34m.\u001b[0m\u001b[0mset_title\u001b[0m\u001b[0;34m(\u001b[0m\u001b[0;34m\"Mean S/N: {:.2f}, GSD: {}\"\u001b[0m\u001b[0;34m.\u001b[0m\u001b[0mformat\u001b[0m\u001b[0;34m(\u001b[0m\u001b[0mnp\u001b[0m\u001b[0;34m.\u001b[0m\u001b[0mnanmean\u001b[0m\u001b[0;34m(\u001b[0m\u001b[0mSN\u001b[0m\u001b[0;34m)\u001b[0m\u001b[0;34m)\u001b[0m\u001b[0;34m)\u001b[0m\u001b[0;34m\u001b[0m\u001b[0;34m\u001b[0m\u001b[0m\n\u001b[0m\u001b[1;32m     24\u001b[0m     \u001b[0;31m#ax.set_ylim([0, np.nanmax(SN)*1.1])\u001b[0m\u001b[0;34m\u001b[0m\u001b[0;34m\u001b[0m\u001b[0;34m\u001b[0m\u001b[0m\n\u001b[1;32m     25\u001b[0m     \u001b[0max\u001b[0m\u001b[0;34m.\u001b[0m\u001b[0mplot\u001b[0m\u001b[0;34m(\u001b[0m\u001b[0mwv\u001b[0m\u001b[0;34m,\u001b[0m \u001b[0mSN\u001b[0m\u001b[0;34m,\u001b[0m \u001b[0mcolor\u001b[0m\u001b[0;34m=\u001b[0m\u001b[0;34m'C0'\u001b[0m\u001b[0;34m)\u001b[0m\u001b[0;34m\u001b[0m\u001b[0;34m\u001b[0m\u001b[0m\n",
          "\u001b[0;31mIndexError\u001b[0m: tuple index out of range"
         ]
        }
       ]
      }
     },
     "b9f20f984f774ff6bce390b423f84e3c": {
      "model_module": "@jupyter-widgets/controls",
      "model_module_version": "1.5.0",
      "model_name": "SliderStyleModel",
      "state": {
       "description_width": ""
      }
     },
     "ba0ae8ea93bd49459a00d1b0787d40ca": {
      "model_module": "@jupyter-widgets/base",
      "model_module_version": "1.2.0",
      "model_name": "LayoutModel",
      "state": {}
     },
     "ba27661585a147b8bd3083b30b9afea5": {
      "model_module": "@jupyter-widgets/base",
      "model_module_version": "1.2.0",
      "model_name": "LayoutModel",
      "state": {}
     },
     "bb7c9489b99343518835cb6dd865ea50": {
      "model_module": "@jupyter-widgets/base",
      "model_module_version": "1.2.0",
      "model_name": "LayoutModel",
      "state": {}
     },
     "be221bb7a5354356b686edf8eac1a7c0": {
      "model_module": "@jupyter-widgets/controls",
      "model_module_version": "1.5.0",
      "model_name": "SliderStyleModel",
      "state": {
       "description_width": ""
      }
     },
     "bf84125cbcfe4a72aa7edcdc6e8cf451": {
      "model_module": "@jupyter-widgets/base",
      "model_module_version": "1.2.0",
      "model_name": "LayoutModel",
      "state": {}
     },
     "bf88931dcfee442d8545c0422abd5bbc": {
      "model_module": "@jupyter-widgets/controls",
      "model_module_version": "1.5.0",
      "model_name": "FloatSliderModel",
      "state": {
       "description": "pixel_size_x",
       "layout": "IPY_MODEL_3f05be04551f4ed89537ed2c8fb5d156",
       "max": 60,
       "min": 5.5,
       "step": 0.1,
       "style": "IPY_MODEL_fa9a7389ce4644ec900229daa48f2995",
       "value": 11.7
      }
     },
     "c0696a4cd57e4dc58c734b193101e5c2": {
      "model_module": "@jupyter-widgets/base",
      "model_module_version": "1.2.0",
      "model_name": "LayoutModel",
      "state": {}
     },
     "c0c26cc5f4b54e029a61f222d0833d03": {
      "model_module": "@jupyter-widgets/base",
      "model_module_version": "1.2.0",
      "model_name": "LayoutModel",
      "state": {}
     },
     "c0e539676779432098e884e1929db438": {
      "model_module": "@jupyter-widgets/base",
      "model_module_version": "1.2.0",
      "model_name": "LayoutModel",
      "state": {}
     },
     "c0f0f794cce846ffb7f1d26dc9277576": {
      "model_module": "@jupyter-widgets/base",
      "model_module_version": "1.2.0",
      "model_name": "LayoutModel",
      "state": {}
     },
     "c36c501e3cb24a75852e7f4cc7a536de": {
      "model_module": "@jupyter-widgets/base",
      "model_module_version": "1.2.0",
      "model_name": "LayoutModel",
      "state": {}
     },
     "c4f8f42395804ff39688e86a3cdb262d": {
      "model_module": "jupyter-matplotlib",
      "model_module_version": "^0.7.4",
      "model_name": "ToolbarModel",
      "state": {
       "layout": "IPY_MODEL_4bc81528e0f34eafa666ea25a91311ac",
       "toolitems": [
        [
         "Home",
         "Reset original view",
         "home",
         "home"
        ],
        [
         "Back",
         "Back to previous view",
         "arrow-left",
         "back"
        ],
        [
         "Forward",
         "Forward to next view",
         "arrow-right",
         "forward"
        ],
        [
         "Pan",
         "Left button pans, Right button zooms\nx/y fixes axis, CTRL fixes aspect",
         "arrows",
         "pan"
        ],
        [
         "Zoom",
         "Zoom to rectangle\nx/y fixes axis, CTRL fixes aspect",
         "square-o",
         "zoom"
        ],
        [
         "Download",
         "Download plot",
         "floppy-o",
         "save_figure"
        ]
       ]
      }
     },
     "c5cb8baca8f04bb398f8e395c5caaa53": {
      "model_module": "@jupyter-widgets/controls",
      "model_module_version": "1.5.0",
      "model_name": "SliderStyleModel",
      "state": {
       "description_width": ""
      }
     },
     "c6fb1b54b9354659bc035364473b965e": {
      "model_module": "@jupyter-widgets/base",
      "model_module_version": "1.2.0",
      "model_name": "LayoutModel",
      "state": {}
     },
     "c8380ca0b3db497dabf7f2b7cc3ac196": {
      "model_module": "@jupyter-widgets/base",
      "model_module_version": "1.2.0",
      "model_name": "LayoutModel",
      "state": {}
     },
     "c85bd8b649244dc389775f17fed5cd3f": {
      "model_module": "@jupyter-widgets/base",
      "model_module_version": "1.2.0",
      "model_name": "LayoutModel",
      "state": {}
     },
     "c9659038f83c4e7ca8039fa7c8d39595": {
      "model_module": "@jupyter-widgets/base",
      "model_module_version": "1.2.0",
      "model_name": "LayoutModel",
      "state": {}
     },
     "ca7cb00b7391405f99f8d6f22b322da9": {
      "model_module": "jupyter-matplotlib",
      "model_module_version": "^0.7.4",
      "model_name": "ToolbarModel",
      "state": {
       "layout": "IPY_MODEL_9a900aec33a9441ba6d733f88f7ea7aa",
       "toolitems": [
        [
         "Home",
         "Reset original view",
         "home",
         "home"
        ],
        [
         "Back",
         "Back to previous view",
         "arrow-left",
         "back"
        ],
        [
         "Forward",
         "Forward to next view",
         "arrow-right",
         "forward"
        ],
        [
         "Pan",
         "Left button pans, Right button zooms\nx/y fixes axis, CTRL fixes aspect",
         "arrows",
         "pan"
        ],
        [
         "Zoom",
         "Zoom to rectangle\nx/y fixes axis, CTRL fixes aspect",
         "square-o",
         "zoom"
        ],
        [
         "Download",
         "Download plot",
         "floppy-o",
         "save_figure"
        ]
       ]
      }
     },
     "cc25dd972a5d4382a11e3c907b5057a2": {
      "model_module": "@jupyter-widgets/base",
      "model_module_version": "1.2.0",
      "model_name": "LayoutModel",
      "state": {}
     },
     "cca15178657f44cfb3521363e7a3dfde": {
      "model_module": "@jupyter-widgets/base",
      "model_module_version": "1.2.0",
      "model_name": "LayoutModel",
      "state": {}
     },
     "cd29d895abdb4cddac26a4e86779c06b": {
      "model_module": "@jupyter-widgets/controls",
      "model_module_version": "1.5.0",
      "model_name": "SliderStyleModel",
      "state": {
       "description_width": ""
      }
     },
     "cdc12ef5eea74385a4bccd1b7a5b6167": {
      "model_module": "@jupyter-widgets/controls",
      "model_module_version": "1.5.0",
      "model_name": "SliderStyleModel",
      "state": {
       "description_width": ""
      }
     },
     "ceee2ed7a2f04c2384bec10f7d8b3744": {
      "model_module": "@jupyter-widgets/controls",
      "model_module_version": "1.5.0",
      "model_name": "VBoxModel",
      "state": {
       "_dom_classes": [
        "widget-interact"
       ],
       "children": [
        "IPY_MODEL_f1bcfb6eafab492dbd90216b3c7d70cd",
        "IPY_MODEL_d30e35e8a7044540849dc17ea0c3b273",
        "IPY_MODEL_004614dc02c34998b69af7d4bf2e9c69",
        "IPY_MODEL_00d122097fe44839804e62144325652e",
        "IPY_MODEL_b6555488f5d84047a1e2cff01ad77fdc",
        "IPY_MODEL_54914efb05b04010b70911e34139d8db",
        "IPY_MODEL_4a2f3e67386d4a4fbcde77a966587fe3",
        "IPY_MODEL_778d4b814db248018fc8ad5f796bffe1"
       ],
       "layout": "IPY_MODEL_902e22f25d4748e782532e754a9df69e"
      }
     },
     "d27411c8205f4485b06ceff2d633c6f8": {
      "model_module": "@jupyter-widgets/base",
      "model_module_version": "1.2.0",
      "model_name": "LayoutModel",
      "state": {}
     },
     "d2856634085248fab464c1521e159740": {
      "model_module": "jupyter-matplotlib",
      "model_module_version": "^0.7.4",
      "model_name": "MPLCanvasModel",
      "state": {
       "_cursor": "default",
       "_figure_label": "Figure 3",
       "_height": 400,
       "_width": 600,
       "layout": "IPY_MODEL_c85bd8b649244dc389775f17fed5cd3f",
       "toolbar": "IPY_MODEL_c4f8f42395804ff39688e86a3cdb262d",
       "toolbar_position": "left"
      }
     },
     "d2ddf0608be544f98022882202277fdd": {
      "model_module": "@jupyter-widgets/base",
      "model_module_version": "1.2.0",
      "model_name": "LayoutModel",
      "state": {}
     },
     "d30e35e8a7044540849dc17ea0c3b273": {
      "model_module": "@jupyter-widgets/controls",
      "model_module_version": "1.5.0",
      "model_name": "IntSliderModel",
      "state": {
       "description": "efl",
       "layout": "IPY_MODEL_a933923ff99740f89f6428308fa5a5ef",
       "max": 1000,
       "min": 100,
       "step": 20,
       "style": "IPY_MODEL_235c55ea51bd4c65ad0c21aaabf44357",
       "value": 330
      }
     },
     "d3df4e7635454f599167a1569cf1502d": {
      "model_module": "@jupyter-widgets/controls",
      "model_module_version": "1.5.0",
      "model_name": "SliderStyleModel",
      "state": {
       "description_width": ""
      }
     },
     "d4297852b0ef43fbac68e998382c65c3": {
      "model_module": "jupyter-matplotlib",
      "model_module_version": "^0.7.4",
      "model_name": "ToolbarModel",
      "state": {
       "layout": "IPY_MODEL_379c37765a2a4117b9e7516f65e674fb",
       "toolitems": [
        [
         "Home",
         "Reset original view",
         "home",
         "home"
        ],
        [
         "Back",
         "Back to previous view",
         "arrow-left",
         "back"
        ],
        [
         "Forward",
         "Forward to next view",
         "arrow-right",
         "forward"
        ],
        [
         "Pan",
         "Left button pans, Right button zooms\nx/y fixes axis, CTRL fixes aspect",
         "arrows",
         "pan"
        ],
        [
         "Zoom",
         "Zoom to rectangle\nx/y fixes axis, CTRL fixes aspect",
         "square-o",
         "zoom"
        ],
        [
         "Download",
         "Download plot",
         "floppy-o",
         "save_figure"
        ]
       ]
      }
     },
     "d45e35bf155e4fac91191b64efb9f7e1": {
      "model_module": "@jupyter-widgets/controls",
      "model_module_version": "1.5.0",
      "model_name": "SliderStyleModel",
      "state": {
       "description_width": ""
      }
     },
     "d5956db3a4f248a0b0f1a0d936f5bc66": {
      "model_module": "@jupyter-widgets/base",
      "model_module_version": "1.2.0",
      "model_name": "LayoutModel",
      "state": {}
     },
     "d654f67b780f4482b0272d516258097e": {
      "model_module": "@jupyter-widgets/controls",
      "model_module_version": "1.5.0",
      "model_name": "IntSliderModel",
      "state": {
       "description": "apeture",
       "layout": "IPY_MODEL_87b3a5fc7d12432aa84a7a84914a22bf",
       "min": 10,
       "style": "IPY_MODEL_408553e82174451497b09bfcf99beeb4",
       "value": 45
      }
     },
     "d796e655ea7b4c6ab3c2e4f8a56701c3": {
      "model_module": "@jupyter-widgets/controls",
      "model_module_version": "1.5.0",
      "model_name": "SliderStyleModel",
      "state": {
       "description_width": ""
      }
     },
     "d903b303efcd421ca994c3536f1f24e4": {
      "model_module": "@jupyter-widgets/controls",
      "model_module_version": "1.5.0",
      "model_name": "SliderStyleModel",
      "state": {
       "description_width": ""
      }
     },
     "d910d5bfc98a4746bc169b714a2a604a": {
      "model_module": "@jupyter-widgets/controls",
      "model_module_version": "1.5.0",
      "model_name": "IntSliderModel",
      "state": {
       "description": "anamorphic_factor",
       "layout": "IPY_MODEL_a382cd8995bf4c09a25a774ec7afa6e0",
       "max": 5,
       "min": 1,
       "style": "IPY_MODEL_d903b303efcd421ca994c3536f1f24e4",
       "value": 1
      }
     },
     "d96642f215b844a49fe56077df63e1c6": {
      "model_module": "@jupyter-widgets/base",
      "model_module_version": "1.2.0",
      "model_name": "LayoutModel",
      "state": {}
     },
     "d9dd7bca97c44d788e511ef89b68d33b": {
      "model_module": "@jupyter-widgets/controls",
      "model_module_version": "1.5.0",
      "model_name": "SliderStyleModel",
      "state": {
       "description_width": ""
      }
     },
     "dd57a349acfc4b4690a855b9b951a6ba": {
      "model_module": "@jupyter-widgets/base",
      "model_module_version": "1.2.0",
      "model_name": "LayoutModel",
      "state": {}
     },
     "de896b8cd4834cca8d0b4e0931363cd3": {
      "model_module": "@jupyter-widgets/base",
      "model_module_version": "1.2.0",
      "model_name": "LayoutModel",
      "state": {}
     },
     "e14b49949a2f483aa9dbfe7d0732f4b3": {
      "model_module": "@jupyter-widgets/controls",
      "model_module_version": "1.5.0",
      "model_name": "FloatSliderModel",
      "state": {
       "description": "dlam",
       "layout": "IPY_MODEL_30e4bc2e0374426c94063d20e290659c",
       "max": 50,
       "min": 0.1,
       "step": 0.1,
       "style": "IPY_MODEL_503ded43a8244d8db12b1bea7296a970",
       "value": 15
      }
     },
     "e42c85285d5c45f8842303d316f0d6bd": {
      "model_module": "@jupyter-widgets/controls",
      "model_module_version": "1.5.0",
      "model_name": "SliderStyleModel",
      "state": {
       "description_width": ""
      }
     },
     "e587e33d886f4d8ebb4a0e985b916164": {
      "model_module": "@jupyter-widgets/base",
      "model_module_version": "1.2.0",
      "model_name": "LayoutModel",
      "state": {}
     },
     "e78074d62c9a4613b399ac69ac3b3169": {
      "model_module": "@jupyter-widgets/base",
      "model_module_version": "1.2.0",
      "model_name": "LayoutModel",
      "state": {}
     },
     "e8181307ac5640b7be12eaecc17ef44d": {
      "model_module": "@jupyter-widgets/controls",
      "model_module_version": "1.5.0",
      "model_name": "SliderStyleModel",
      "state": {
       "description_width": ""
      }
     },
     "e86c6deae89d4953b0692514b6dcedef": {
      "model_module": "@jupyter-widgets/controls",
      "model_module_version": "1.5.0",
      "model_name": "SliderStyleModel",
      "state": {
       "description_width": ""
      }
     },
     "e8cf00c9cc76430cad3940ee176b5324": {
      "model_module": "@jupyter-widgets/controls",
      "model_module_version": "1.5.0",
      "model_name": "SliderStyleModel",
      "state": {
       "description_width": ""
      }
     },
     "ea7aa0d8097e4411bbdb0c36036886e3": {
      "model_module": "@jupyter-widgets/base",
      "model_module_version": "1.2.0",
      "model_name": "LayoutModel",
      "state": {}
     },
     "ea8abf64af644db993e64b5790cc46bd": {
      "model_module": "@jupyter-widgets/controls",
      "model_module_version": "1.5.0",
      "model_name": "IntSliderModel",
      "state": {
       "description": "apeture",
       "layout": "IPY_MODEL_2cb53089e9024f02b2fd749226d406d2",
       "min": 10,
       "style": "IPY_MODEL_e8181307ac5640b7be12eaecc17ef44d",
       "value": 45
      }
     },
     "eadcde601b3f4dd087f7347491ad8af1": {
      "model_module": "jupyter-matplotlib",
      "model_module_version": "^0.7.4",
      "model_name": "MPLCanvasModel",
      "state": {
       "_cursor": "default",
       "_figure_label": "Figure 5",
       "_height": 400,
       "_message": "x=0.6431 y=79.6",
       "_width": 600,
       "layout": "IPY_MODEL_6ef5b1a51b964899b0ca2cbaf701bcfe",
       "toolbar": "IPY_MODEL_b60b25b546d14866befcf2afe75ab27f",
       "toolbar_position": "left"
      }
     },
     "eae23a592675477f840ce03855b94c75": {
      "model_module": "@jupyter-widgets/controls",
      "model_module_version": "1.5.0",
      "model_name": "SliderStyleModel",
      "state": {
       "description_width": ""
      }
     },
     "edeb08cb5b4f48bc9b1d26058d923257": {
      "model_module": "jupyter-matplotlib",
      "model_module_version": "^0.7.4",
      "model_name": "MPLCanvasModel",
      "state": {
       "_cursor": "default",
       "_figure_label": "Figure 2",
       "_height": 400,
       "_image_mode": "diff",
       "_width": 600,
       "layout": "IPY_MODEL_5745188761cb4ab8bcf196bf083f7c6d",
       "toolbar": "IPY_MODEL_37bf976cb31c4f52a45f45a3523a5d96",
       "toolbar_position": "left"
      }
     },
     "ee66dcd7a6924326940e32c8fd2eef09": {
      "model_module": "@jupyter-widgets/base",
      "model_module_version": "1.2.0",
      "model_name": "LayoutModel",
      "state": {}
     },
     "ef2e3f009f944ea7a4bc7468b0f1ab3f": {
      "model_module": "@jupyter-widgets/controls",
      "model_module_version": "1.5.0",
      "model_name": "SliderStyleModel",
      "state": {
       "description_width": ""
      }
     },
     "ef5fafddedbf41ffaebf140074b71380": {
      "model_module": "@jupyter-widgets/controls",
      "model_module_version": "1.5.0",
      "model_name": "VBoxModel",
      "state": {
       "_dom_classes": [
        "widget-interact"
       ],
       "children": [
        "IPY_MODEL_a0be026e29b04b6dab0aa0f681fd785a",
        "IPY_MODEL_34325f03028c4f1f8bf7dd54db27ee4c",
        "IPY_MODEL_5c36b6e6e0324c7e9240a38a44407d7e",
        "IPY_MODEL_7ba28d363d0141c691b6f3b975203006",
        "IPY_MODEL_a9cb2307309a49ee9eb26ec4899b71b3",
        "IPY_MODEL_8b00e01e7e444838a5eba398543e7231",
        "IPY_MODEL_af173c3fe2c34fd88f3f6c61be528d77"
       ],
       "layout": "IPY_MODEL_7772916f35f14d0199d3217709fa9637"
      }
     },
     "efefe1f9d7f343eb9426a56c4fe410b0": {
      "model_module": "@jupyter-widgets/controls",
      "model_module_version": "1.5.0",
      "model_name": "IntSliderModel",
      "state": {
       "description": "apeture",
       "layout": "IPY_MODEL_437d6810519840cc92937946307e8a12",
       "min": 10,
       "style": "IPY_MODEL_aeb2a0d0bd58400cb5b86756a0248683",
       "value": 45
      }
     },
     "f1bcfb6eafab492dbd90216b3c7d70cd": {
      "model_module": "@jupyter-widgets/controls",
      "model_module_version": "1.5.0",
      "model_name": "IntSliderModel",
      "state": {
       "description": "apeture",
       "layout": "IPY_MODEL_9f7859d56b2b4146ad70ec670e323f75",
       "min": 10,
       "style": "IPY_MODEL_0bf1037387a740f486f4ff98cc4bd2e2",
       "value": 53
      }
     },
     "f2284df55700482fb39cc0a21b67bc74": {
      "model_module": "@jupyter-widgets/base",
      "model_module_version": "1.2.0",
      "model_name": "LayoutModel",
      "state": {}
     },
     "f3d42dfdec794363b53f847b003ed424": {
      "model_module": "@jupyter-widgets/controls",
      "model_module_version": "1.5.0",
      "model_name": "FloatSliderModel",
      "state": {
       "description": "pixel_size_y",
       "layout": "IPY_MODEL_f882d25a93244a3fb97a05b26e0be8bb",
       "max": 60,
       "min": 5.5,
       "step": 0.1,
       "style": "IPY_MODEL_e86c6deae89d4953b0692514b6dcedef",
       "value": 5.5
      }
     },
     "f522fc0ecc3242fb98ace9653cbae40d": {
      "model_module": "@jupyter-widgets/base",
      "model_module_version": "1.2.0",
      "model_name": "LayoutModel",
      "state": {}
     },
     "f6be8147d96f4053b9105261fd799383": {
      "model_module": "@jupyter-widgets/controls",
      "model_module_version": "1.5.0",
      "model_name": "VBoxModel",
      "state": {
       "_dom_classes": [
        "widget-interact"
       ],
       "children": [
        "IPY_MODEL_28a5352782fa4b4089b3d7e20bd14979",
        "IPY_MODEL_6df9ec3493de4428aa40992dee2dc656",
        "IPY_MODEL_4468425396b3426494493c7138a37a8e",
        "IPY_MODEL_056384d436b84c1dabc8f177bda713e6",
        "IPY_MODEL_8fa4d71520b4455da155e6436639a382",
        "IPY_MODEL_18e6dc92d4c745ccb64987bcbcde661b",
        "IPY_MODEL_247bc318803f413ebed312fbe0e695ec"
       ],
       "layout": "IPY_MODEL_33b91287cb484cb3a5609aa0019248ae"
      }
     },
     "f72b9eb413a443d2ac22c2761aa225ef": {
      "model_module": "jupyter-matplotlib",
      "model_module_version": "^0.7.4",
      "model_name": "MPLCanvasModel",
      "state": {
       "_cursor": "default",
       "_figure_label": "Figure 4",
       "_height": 400,
       "_message": "x=0.0069 y=0.0390",
       "_width": 600,
       "layout": "IPY_MODEL_41fcdd07f334467a94d27721821cfe01",
       "toolbar": "IPY_MODEL_12c39245b90c4de5a04ec8e126a81384",
       "toolbar_position": "left"
      }
     },
     "f8091501c8e846e3876110969da90af2": {
      "model_module": "@jupyter-widgets/controls",
      "model_module_version": "1.5.0",
      "model_name": "VBoxModel",
      "state": {
       "_dom_classes": [
        "widget-interact"
       ],
       "children": [
        "IPY_MODEL_fd224bf2989b41fdb001769614eebd6c",
        "IPY_MODEL_159e7365300e4bdc9ba7ba1bda382ca6",
        "IPY_MODEL_b983eb11e65d43128f5a12da8eb99c41",
        "IPY_MODEL_f3d42dfdec794363b53f847b003ed424",
        "IPY_MODEL_f8d10e9960e54df3bafd7b55b7160fa4",
        "IPY_MODEL_80d6917bfb6f4355a83ffcd630df382b",
        "IPY_MODEL_d910d5bfc98a4746bc169b714a2a604a",
        "IPY_MODEL_9e6b1481493a4e8ca4f644aa4fd0f5f9"
       ],
       "layout": "IPY_MODEL_bf84125cbcfe4a72aa7edcdc6e8cf451"
      }
     },
     "f882d25a93244a3fb97a05b26e0be8bb": {
      "model_module": "@jupyter-widgets/base",
      "model_module_version": "1.2.0",
      "model_name": "LayoutModel",
      "state": {}
     },
     "f8d10e9960e54df3bafd7b55b7160fa4": {
      "model_module": "@jupyter-widgets/controls",
      "model_module_version": "1.5.0",
      "model_name": "IntSliderModel",
      "state": {
       "description": "int_time",
       "layout": "IPY_MODEL_7fc41b7769784e8092b9d2af47bce334",
       "max": 10,
       "min": 1,
       "style": "IPY_MODEL_5b748a57c62e4b3d81015ae7301228ad",
       "value": 5
      }
     },
     "fa9a7389ce4644ec900229daa48f2995": {
      "model_module": "@jupyter-widgets/controls",
      "model_module_version": "1.5.0",
      "model_name": "SliderStyleModel",
      "state": {
       "description_width": ""
      }
     },
     "fb15c1a720b64350bacf721ce7597491": {
      "model_module": "@jupyter-widgets/base",
      "model_module_version": "1.2.0",
      "model_name": "LayoutModel",
      "state": {}
     },
     "fc1910c79ee84fd79de7145d839cd92c": {
      "model_module": "@jupyter-widgets/controls",
      "model_module_version": "1.5.0",
      "model_name": "SliderStyleModel",
      "state": {
       "description_width": ""
      }
     },
     "fc696e54a978407b8dd27b1da273fb07": {
      "model_module": "@jupyter-widgets/controls",
      "model_module_version": "1.5.0",
      "model_name": "SliderStyleModel",
      "state": {
       "description_width": ""
      }
     },
     "fd224bf2989b41fdb001769614eebd6c": {
      "model_module": "@jupyter-widgets/controls",
      "model_module_version": "1.5.0",
      "model_name": "IntSliderModel",
      "state": {
       "description": "apeture",
       "layout": "IPY_MODEL_98d440c5fe214b639aea4cc92cab6304",
       "min": 10,
       "style": "IPY_MODEL_39981f03838d46a39e68011adf377fbc",
       "value": 45
      }
     },
     "ff0224ff46bd4e578012828140cd0623": {
      "model_module": "@jupyter-widgets/base",
      "model_module_version": "1.2.0",
      "model_name": "LayoutModel",
      "state": {}
     }
    },
    "version_major": 2,
    "version_minor": 0
   }
  }
 },
 "nbformat": 4,
 "nbformat_minor": 4
}
